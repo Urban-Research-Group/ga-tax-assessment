{
 "cells": [
  {
   "cell_type": "code",
   "execution_count": 7,
   "metadata": {},
   "outputs": [],
   "source": [
    "import csv"
   ]
  },
  {
   "cell_type": "code",
   "execution_count": 10,
   "metadata": {},
   "outputs": [],
   "source": [
    "with open(\"fulton_taxdist_fullname\", 'r') as infile:\n",
    "    dist_name = [x.strip() for x in infile.readlines()]\n",
    "\n",
    "with open(\"fulton_taxdist_code\") as infile:\n",
    "    dist_code = [x.strip() for x in infile.readlines()]\n",
    "\n",
    "data_out = list(zip(dist_code,dist_name))\n",
    "\n",
    "with open(\"fulton_crosswalk_sheet\", 'w') as outfile:\n",
    "    csv_writer = csv.writer(outfile) # this is a csv writer object, doesn't do anything\n",
    "    for row in data_out:\n",
    "        csv_writer.writerow(row)\n",
    "\n",
    "\n"
   ]
  }
 ],
 "metadata": {
  "kernelspec": {
   "display_name": "Python 3.10.6 64-bit",
   "language": "python",
   "name": "python3"
  },
  "language_info": {
   "codemirror_mode": {
    "name": "ipython",
    "version": 3
   },
   "file_extension": ".py",
   "mimetype": "text/x-python",
   "name": "python",
   "nbconvert_exporter": "python",
   "pygments_lexer": "ipython3",
   "version": "3.10.6"
  },
  "orig_nbformat": 4,
  "vscode": {
   "interpreter": {
    "hash": "aee8b7b246df8f9039afb4144a1f6fd8d2ca17a180786b69acc140d282b71a49"
   }
  }
 },
 "nbformat": 4,
 "nbformat_minor": 2
}
