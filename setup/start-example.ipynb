{
 "cells": [
  {
   "cell_type": "markdown",
   "metadata": {},
   "source": [
    "## Welcome!\n",
    "Jupyter Notebooks have two types of 'cells'- text and code cells. This is a text cell, where we can write markdown text.\n",
    "\n",
    "Below, I have written instructions in Markdown cells. In the following Python cell, please attempt to carry out the instruction.\n",
    "\n",
    "I have provided the first 2 cells as an example.\n",
    "\n",
    "Answers are provided in the 'answers.ipynb' notebook. Please make some attempt before looking at the answer. This is a very brief introduction to ensure your setup is working.\n",
    "\n",
    "---"
   ]
  },
  {
   "cell_type": "markdown",
   "metadata": {},
   "source": [
    "Import Pandas\n",
    "\n",
    "Note: you may see the error that \"pandas\" could not be resolved from source. This means that you haven't installed pandas.  \n",
    "Pandas is a Python library. We can install Python libraries by clicking \"Terminal\" in the upper-left VSCode menu -> \"New Terminal\".  \n",
    "A terminal menu should pop up. In that menu, type:\n",
    "```bash\n",
    "pip install pandas\n",
    "```\n",
    "FYI: pip is a package (e.g. library) manager for Python."
   ]
  },
  {
   "cell_type": "code",
   "execution_count": 7,
   "metadata": {},
   "outputs": [],
   "source": [
    "import pandas as pd"
   ]
  },
  {
   "cell_type": "markdown",
   "metadata": {},
   "source": [
    "Read in the sample CSV file, 'sample.csv'"
   ]
  },
  {
   "cell_type": "code",
   "execution_count": 9,
   "metadata": {},
   "outputs": [],
   "source": [
    "afile = pd.read_csv(\"sample.csv\")"
   ]
  },
  {
   "cell_type": "markdown",
   "metadata": {},
   "source": [
    "Print out what we've read in (will usually only print a sample)"
   ]
  },
  {
   "cell_type": "code",
   "execution_count": 10,
   "metadata": {},
   "outputs": [
    {
     "name": "stdout",
     "output_type": "stream",
     "text": [
      "   id  name          major\n",
      "0   1  nick             cs\n",
      "1   1  nick  secretly pubp\n",
      "2   2  jack           pubp\n",
      "3   3  iman           pubp\n",
      "4   4  john           isye\n"
     ]
    }
   ],
   "source": [
    "print(afile)"
   ]
  },
  {
   "cell_type": "markdown",
   "metadata": {},
   "source": [
    "Read in the sample TXT file, 'sample.txt'. The separator or delimeter is \"|\"."
   ]
  },
  {
   "cell_type": "code",
   "execution_count": 11,
   "metadata": {},
   "outputs": [],
   "source": [
    "sample = pd.read_csv(\"sample.txt\", delimiter = \"|\")"
   ]
  },
  {
   "cell_type": "markdown",
   "metadata": {},
   "source": [
    "Print out what we've just read in (will usually only print a sample)"
   ]
  },
  {
   "cell_type": "code",
   "execution_count": 12,
   "metadata": {},
   "outputs": [
    {
     "name": "stdout",
     "output_type": "stream",
     "text": [
      "   name   color\n",
      "0  nick   green\n",
      "1  john    blue\n",
      "2  iman  orange\n",
      "3  jack     red\n"
     ]
    }
   ],
   "source": [
    "print(sample)"
   ]
  },
  {
   "cell_type": "markdown",
   "metadata": {},
   "source": [
    "Inner merge the sample csv data to the sample txt data on 'name'"
   ]
  },
  {
   "cell_type": "code",
   "execution_count": 16,
   "metadata": {},
   "outputs": [],
   "source": [
    "mergedfile = pd.merge(afile, sample)"
   ]
  },
  {
   "cell_type": "markdown",
   "metadata": {},
   "source": [
    "Print out the merged data"
   ]
  },
  {
   "cell_type": "code",
   "execution_count": 17,
   "metadata": {},
   "outputs": [
    {
     "name": "stdout",
     "output_type": "stream",
     "text": [
      "   id  name          major   color\n",
      "0   1  nick             cs   green\n",
      "1   1  nick  secretly pubp   green\n",
      "2   2  jack           pubp     red\n",
      "3   3  iman           pubp  orange\n",
      "4   4  john           isye    blue\n"
     ]
    }
   ],
   "source": [
    "print(mergedfile)"
   ]
  },
  {
   "cell_type": "markdown",
   "metadata": {},
   "source": [
    "Select only your name in the data"
   ]
  },
  {
   "cell_type": "code",
   "execution_count": 20,
   "metadata": {},
   "outputs": [
    {
     "data": {
      "text/html": [
       "<div>\n",
       "<style scoped>\n",
       "    .dataframe tbody tr th:only-of-type {\n",
       "        vertical-align: middle;\n",
       "    }\n",
       "\n",
       "    .dataframe tbody tr th {\n",
       "        vertical-align: top;\n",
       "    }\n",
       "\n",
       "    .dataframe thead th {\n",
       "        text-align: right;\n",
       "    }\n",
       "</style>\n",
       "<table border=\"1\" class=\"dataframe\">\n",
       "  <thead>\n",
       "    <tr style=\"text-align: right;\">\n",
       "      <th></th>\n",
       "      <th>id</th>\n",
       "      <th>name</th>\n",
       "      <th>major</th>\n",
       "      <th>color</th>\n",
       "    </tr>\n",
       "  </thead>\n",
       "  <tbody>\n",
       "    <tr>\n",
       "      <th>4</th>\n",
       "      <td>4</td>\n",
       "      <td>john</td>\n",
       "      <td>isye</td>\n",
       "      <td>blue</td>\n",
       "    </tr>\n",
       "  </tbody>\n",
       "</table>\n",
       "</div>"
      ],
      "text/plain": [
       "   id  name major color\n",
       "4   4  john  isye  blue"
      ]
     },
     "execution_count": 20,
     "metadata": {},
     "output_type": "execute_result"
    }
   ],
   "source": [
    "mergedfile[mergedfile.name == 'john']"
   ]
  },
  {
   "cell_type": "markdown",
   "metadata": {},
   "source": [
    "Delete rows in the merged data with duplicate 'id'"
   ]
  },
  {
   "cell_type": "code",
   "execution_count": 22,
   "metadata": {},
   "outputs": [],
   "source": [
    "mergedfile = mergedfile.drop_duplicates(subset = 'id')"
   ]
  },
  {
   "cell_type": "markdown",
   "metadata": {},
   "source": [
    "Check that it worked by printing the data"
   ]
  },
  {
   "cell_type": "code",
   "execution_count": 23,
   "metadata": {},
   "outputs": [
    {
     "name": "stdout",
     "output_type": "stream",
     "text": [
      "   id  name major   color\n",
      "0   1  nick    cs   green\n",
      "2   2  jack  pubp     red\n",
      "3   3  iman  pubp  orange\n",
      "4   4  john  isye    blue\n"
     ]
    }
   ],
   "source": [
    "print(mergedfile)"
   ]
  },
  {
   "cell_type": "markdown",
   "metadata": {},
   "source": [
    "### Yay! You did it! Welcome to the Python Club 😎"
   ]
  },
  {
   "cell_type": "markdown",
   "metadata": {},
   "source": [
    "Commit your changes to GitHub!\n",
    "1. Click on the branch looking icon on the left-hand side of VSCode.\n",
    "2. Type in a message in the top input box, then click commit -> sync changes (e.g. a push). Select yes to any pop-up menu."
   ]
  }
 ],
 "metadata": {
  "kernelspec": {
   "display_name": "Python 3.10.6 64-bit",
   "language": "python",
   "name": "python3"
  },
  "language_info": {
   "codemirror_mode": {
    "name": "ipython",
    "version": 3
   },
   "file_extension": ".py",
   "mimetype": "text/x-python",
   "name": "python",
   "nbconvert_exporter": "python",
   "pygments_lexer": "ipython3",
   "version": "3.10.6"
  },
  "orig_nbformat": 4,
  "vscode": {
   "interpreter": {
    "hash": "aee8b7b246df8f9039afb4144a1f6fd8d2ca17a180786b69acc140d282b71a49"
   }
  }
 },
 "nbformat": 4,
 "nbformat_minor": 2
}
