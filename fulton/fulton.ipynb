{
 "cells": [
  {
   "cell_type": "markdown",
   "metadata": {},
   "source": [
    "- Read files (selecting only needed columns)\n",
    "- Append all files\n",
    "- Clean columns\n",
    "- Add column specifying Fulton as the data source\n",
    "- Create new columns for site address and owner address\n",
    "- Export to csv and parquet"
   ]
  },
  {
   "cell_type": "code",
   "execution_count": 1,
   "metadata": {},
   "outputs": [],
   "source": [
    "import polars as pl\n",
    "import os\n",
    "\n",
    "FILES_PATH = \"../data/fulton/parcels/\"\n",
    "COL_MAP = dict(pl.read_csv(\"fulton_cols.csv\")[[\"old_name\", \"new_name\"]].iter_rows())\n",
    "DTYPE_MAP = dict(pl.read_csv(\"fulton_cols.csv\")[[\"new_name\", \"dtype\"]].iter_rows())\n",
    "CONVERT_DTYPES = {\n",
    "    \"Int16\": pl.Int16,\n",
    "    \"Int32\": pl.Int32,\n",
    "    \"Int64\": pl.Int64,\n",
    "    \"Float16\": pl.Float32,\n",
    "    \"Float32\": pl.Float32,\n",
    "    \"Float64\": pl.Float64,\n",
    "    \"String\": pl.Utf8,\n",
    "}\n",
    "\n",
    "\n",
    "def fill_null_with_zero(df, col):\n",
    "    return df.with_columns(\n",
    "        pl.when(pl.col(col).is_null()).then(pl.lit(0)).otherwise(pl.col(col))\n",
    "        .keep_name()\n",
    "    )\n",
    "\n",
    "\n",
    "def fill_null_with_empty(df, col):\n",
    "    return df.with_columns(\n",
    "        pl.when(\n",
    "            (pl.col(col).is_null())\n",
    "            | (pl.col(col).str.to_uppercase() == \"NULL\")\n",
    "            | (pl.col(col).str.to_uppercase() == \"NAN\")\n",
    "        )\n",
    "        .then(pl.lit(\"\"))\n",
    "        .otherwise(pl.col(col))\n",
    "        .keep_name()\n",
    "    )\n",
    "\n",
    "\n",
    "def list_to_str(lst):\n",
    "    return \"\".join(map(str, lst))"
   ]
  },
  {
   "cell_type": "code",
   "execution_count": 2,
   "metadata": {},
   "outputs": [
    {
     "name": "stdout",
     "output_type": "stream",
     "text": [
      "Reading 14th_2010-2011.xlsx\n",
      "Reading 14th_2012-2013.xlsx\n",
      "Reading 14th_2014.xlsx\n",
      "Reading 14th_2015-2016.xlsx\n",
      "Reading 14th_2017.xlsx\n",
      "Reading 14th_2018.xlsx\n",
      "Reading 14th_2019.xlsx\n",
      "Reading 14th_2020.xlsx\n",
      "Reading 14th_2021.xlsx\n",
      "Reading 14th_2022.xlsx\n",
      "Reading 17th_2010-2011.xlsx\n",
      "Reading 17th_2012-2013.xlsx\n",
      "Reading 17th_2014.xlsx\n",
      "Reading 17th_2015.xlsx\n",
      "Reading 17th_2016.xlsx\n",
      "Reading 17th_2017.xlsx\n",
      "Reading 17th_2018.xlsx\n",
      "Reading 17th_2019.xlsx\n",
      "Reading 17th_2020.xlsx\n",
      "Reading 17th_2021.xlsx\n",
      "Reading 17th_2022.xlsx\n",
      "Reading atl_2011-2012.xlsx\n",
      "Reading atl_2013-2014.xlsx\n",
      "Reading atl_2015.xlsx\n",
      "Reading atl_2016.xlsx\n",
      "Reading atl_2017.xlsx\n",
      "Reading atl_2018.xlsx\n",
      "Reading atl_2019.xlsx\n",
      "Reading atl_2020.xlsx\n",
      "Reading atl_2021.xlsx\n",
      "Reading atl_2022.xlsx\n",
      "Reading nf_2010-2011.xlsx\n",
      "Reading nf_2012-2013.xlsx\n",
      "Reading nf_2014.xlsx\n",
      "Reading nf_2015.xlsx\n",
      "Reading nf_2016.xlsx\n",
      "Reading nf_2017.xlsx\n",
      "Reading nf_2018.xlsx\n",
      "Reading nf_2019.xlsx\n",
      "Reading nf_2020.xlsx\n",
      "Reading nf_2021.xlsx\n",
      "Reading nf_2022.xlsx\n",
      "Reading sf_2010-2011.xlsx\n",
      "Reading sf_2012-2013.xlsx\n",
      "Reading sf_2014.xlsx\n",
      "Reading sf_2015.xlsx\n",
      "Reading sf_2016.xlsx\n",
      "Reading sf_2017.xlsx\n",
      "Reading sf_2018.xlsx\n",
      "Reading sf_2019.xlsx\n",
      "Reading sf_2020.xlsx\n",
      "Reading sf_2021.xlsx\n",
      "Reading sf_2022.xlsx\n"
     ]
    }
   ],
   "source": [
    "dfs = []\n",
    "\n",
    "for file in os.listdir(FILES_PATH):\n",
    "    print(f\"Reading {file}\")\n",
    "    dfs.append(\n",
    "        pl.read_excel(\n",
    "            source=FILES_PATH + file,\n",
    "            read_csv_options={\n",
    "                \"infer_schema_length\": 0,\n",
    "                \"columns\": list(COL_MAP.keys())\n",
    "            },\n",
    "            xlsx2csv_options={\"ignore_formats\": [\"float\"]},\n",
    "        ).with_columns(\n",
    "            pl.lit(file)\n",
    "            .alias(\"source_file\")\n",
    "        )\n",
    "    )\n",
    "\n",
    "for df in dfs:\n",
    "    df = df.select(~pl.col(\"Parid\").str.contains(\"COUNT\"))\n",
    "\n",
    "df = pl.concat(dfs)\n",
    "df = df.rename(COL_MAP)"
   ]
  },
  {
   "cell_type": "code",
   "execution_count": 3,
   "metadata": {},
   "outputs": [],
   "source": [
    "for key, val in DTYPE_MAP.items():\n",
    "    DTYPE_MAP[key] = CONVERT_DTYPES[val]\n",
    "\n",
    "# Enforcing numbers\n",
    "for column in DTYPE_MAP.keys():\n",
    "    if (DTYPE_MAP[column] in pl.NUMERIC_DTYPES) and df[column].dtype == pl.Utf8:\n",
    "        df = df.with_columns(\n",
    "            pl.col(column).str.extract_all(r\"[0-9]\").apply(list_to_str).keep_name()\n",
    "        )\n",
    "    df = df.select(pl.col(column).cast(DTYPE_MAP[column]), pl.all().exclude(column))\n",
    "\n",
    "for column in df.columns:\n",
    "    if df[column].dtype in pl.NUMERIC_DTYPES:\n",
    "        df = fill_null_with_zero(df, column)\n",
    "    else:\n",
    "        df = fill_null_with_empty(df, column)\n",
    "\n",
    "df = df.with_columns(\n",
    "    pl.concat_str(\n",
    "        [\n",
    "            pl.col(\"site_addrno\"),\n",
    "            pl.lit(\" \"),\n",
    "            pl.col(\"site_addrdir\"),\n",
    "            pl.lit(\" \"),\n",
    "            pl.col(\"site_addrstr\"),\n",
    "            pl.lit(\" \"),\n",
    "            pl.col(\"site_addrsuf\"),\n",
    "            pl.lit(\" \"),\n",
    "            pl.col(\"site_addrsuf2\"),\n",
    "        ]\n",
    "    )\n",
    "    .str.replace_all(r\"\\s+\", \" \")\n",
    "    .str.strip()\n",
    "    .alias(\"street_addr\")\n",
    ")\n",
    "\n",
    "df = df.with_columns(\n",
    "    pl.concat_str(\n",
    "        [\n",
    "            pl.col(\"owner_addrno\"),\n",
    "            pl.lit(\" \"),\n",
    "            pl.col(\"owner_addradd\"),\n",
    "            pl.lit(\" \"),\n",
    "            pl.col(\"owner_addrdir\"),\n",
    "            pl.lit(\" \"),\n",
    "            pl.col(\"owner_addrstr\"),\n",
    "            pl.lit(\" \"),\n",
    "            pl.col(\"owner_addrsuf\"),\n",
    "            pl.lit(\" \"),\n",
    "            pl.col(\"owner_addrsuf2\"),\n",
    "            pl.lit(\" \"),\n",
    "            pl.col(\"owner_unitno\"),\n",
    "        ]\n",
    "    )\n",
    "    .str.replace_all(r\"\\s+\", \" \")\n",
    "    .str.strip()\n",
    "    .alias(\"owner_addr\")\n",
    ")\n",
    "\n",
    "df = df.with_columns(pl.lit(\"FULTON\").alias(\"source_county\"))\n",
    "\n",
    "df.write_csv(\"all_parcels_fulton.csv\")\n",
    "df.write_parquet(\"all_parcels_fulton.parquet\")"
   ]
  },
  {
   "cell_type": "markdown",
   "metadata": {},
   "source": [
    "### Check Output"
   ]
  },
  {
   "cell_type": "code",
   "execution_count": 22,
   "metadata": {},
   "outputs": [],
   "source": [
    "result = pl.read_parquet(\"all_parcels_fulton.parquet\")"
   ]
  },
  {
   "cell_type": "code",
   "execution_count": 24,
   "metadata": {},
   "outputs": [],
   "source": [
    "S_ADDR_VARS = [\"site_addrno\", \"site_addrdir\", \"site_addrstr\", \"site_addrsuf\", \"site_addrsuf2\", \"street_addr\"]\n",
    "O_ADDR_VARS = [\"owner_addrno\", \"owner_addradd\", \"owner_addrdir\", \"owner_addrstr\", \"owner_addrsuf\", \"owner_addrsuf2\", \"owner_unitno\", \"owner_addr\"]"
   ]
  },
  {
   "cell_type": "code",
   "execution_count": 25,
   "metadata": {},
   "outputs": [
    {
     "data": {
      "text/html": [
       "<div><style>\n",
       ".dataframe > thead > tr > th,\n",
       ".dataframe > tbody > tr > td {\n",
       "  text-align: right;\n",
       "}\n",
       "</style>\n",
       "<small>shape: (5, 6)</small><table border=\"1\" class=\"dataframe\"><thead><tr><th>site_addrno</th><th>site_addrdir</th><th>site_addrstr</th><th>site_addrsuf</th><th>site_addrsuf2</th><th>street_addr</th></tr><tr><td>str</td><td>str</td><td>str</td><td>str</td><td>str</td><td>str</td></tr></thead><tbody><tr><td>&quot;100&quot;</td><td>&quot;&quot;</td><td>&quot;BROWNTOWN&quot;</td><td>&quot;RD&quot;</td><td>&quot;NW&quot;</td><td>&quot;100 BROWNTOWN …</td></tr><tr><td>&quot;0&quot;</td><td>&quot;&quot;</td><td>&quot;KENNETH&quot;</td><td>&quot;ST&quot;</td><td>&quot;SE&quot;</td><td>&quot;0 KENNETH ST S…</td></tr><tr><td>&quot;1826&quot;</td><td>&quot;&quot;</td><td>&quot;LIBERTY&quot;</td><td>&quot;LN&quot;</td><td>&quot;&quot;</td><td>&quot;1826 LIBERTY L…</td></tr><tr><td>&quot;1195&quot;</td><td>&quot;&quot;</td><td>&quot;LONGCOURTE&quot;</td><td>&quot;&quot;</td><td>&quot;NW&quot;</td><td>&quot;1195 LONGCOURT…</td></tr><tr><td>&quot;300&quot;</td><td>&quot;&quot;</td><td>&quot;WEST PEACHTREE…</td><td>&quot;ST&quot;</td><td>&quot;&quot;</td><td>&quot;300 WEST PEACH…</td></tr></tbody></table></div>"
      ],
      "text/plain": [
       "shape: (5, 6)\n",
       "┌─────────────┬──────────────┬────────────────┬──────────────┬───────────────┬─────────────────────┐\n",
       "│ site_addrno ┆ site_addrdir ┆ site_addrstr   ┆ site_addrsuf ┆ site_addrsuf2 ┆ street_addr         │\n",
       "│ ---         ┆ ---          ┆ ---            ┆ ---          ┆ ---           ┆ ---                 │\n",
       "│ str         ┆ str          ┆ str            ┆ str          ┆ str           ┆ str                 │\n",
       "╞═════════════╪══════════════╪════════════════╪══════════════╪═══════════════╪═════════════════════╡\n",
       "│ 100         ┆              ┆ BROWNTOWN      ┆ RD           ┆ NW            ┆ 100 BROWNTOWN RD NW │\n",
       "│ 0           ┆              ┆ KENNETH        ┆ ST           ┆ SE            ┆ 0 KENNETH ST SE     │\n",
       "│ 1826        ┆              ┆ LIBERTY        ┆ LN           ┆               ┆ 1826 LIBERTY LN     │\n",
       "│ 1195        ┆              ┆ LONGCOURTE     ┆              ┆ NW            ┆ 1195 LONGCOURTE NW  │\n",
       "│ 300         ┆              ┆ WEST PEACHTREE ┆ ST           ┆               ┆ 300 WEST PEACHTREE  │\n",
       "│             ┆              ┆                ┆              ┆               ┆ ST                  │\n",
       "└─────────────┴──────────────┴────────────────┴──────────────┴───────────────┴─────────────────────┘"
      ]
     },
     "execution_count": 25,
     "metadata": {},
     "output_type": "execute_result"
    }
   ],
   "source": [
    "result[S_ADDR_VARS].sample(5)"
   ]
  },
  {
   "cell_type": "code",
   "execution_count": 26,
   "metadata": {},
   "outputs": [
    {
     "data": {
      "text/html": [
       "<div><style>\n",
       ".dataframe > thead > tr > th,\n",
       ".dataframe > tbody > tr > td {\n",
       "  text-align: right;\n",
       "}\n",
       "</style>\n",
       "<small>shape: (5, 8)</small><table border=\"1\" class=\"dataframe\"><thead><tr><th>owner_addrno</th><th>owner_addradd</th><th>owner_addrdir</th><th>owner_addrstr</th><th>owner_addrsuf</th><th>owner_addrsuf2</th><th>owner_unitno</th><th>owner_addr</th></tr><tr><td>str</td><td>str</td><td>str</td><td>str</td><td>str</td><td>str</td><td>str</td><td>str</td></tr></thead><tbody><tr><td>&quot;8607&quot;</td><td>&quot;&quot;</td><td>&quot;&quot;</td><td>&quot;SUNDALE&quot;</td><td>&quot;DR&quot;</td><td>&quot;&quot;</td><td>&quot;&quot;</td><td>&quot;8607 SUNDALE D…</td></tr><tr><td>&quot;&quot;</td><td>&quot;&quot;</td><td>&quot;&quot;</td><td>&quot;&quot;</td><td>&quot;&quot;</td><td>&quot;&quot;</td><td>&quot;324&quot;</td><td>&quot;324&quot;</td></tr><tr><td>&quot;250&quot;</td><td>&quot;&quot;</td><td>&quot;&quot;</td><td>&quot;PHARR&quot;</td><td>&quot;RD&quot;</td><td>&quot;NE&quot;</td><td>&quot;405&quot;</td><td>&quot;250 PHARR RD N…</td></tr><tr><td>&quot;5596&quot;</td><td>&quot;&quot;</td><td>&quot;&quot;</td><td>&quot;DENDY&quot;</td><td>&quot;TRCE&quot;</td><td>&quot;&quot;</td><td>&quot;&quot;</td><td>&quot;5596 DENDY TRC…</td></tr><tr><td>&quot;9497&quot;</td><td>&quot;&quot;</td><td>&quot;&quot;</td><td>&quot;THORNTON&quot;</td><td>&quot;BLVD&quot;</td><td>&quot;&quot;</td><td>&quot;&quot;</td><td>&quot;9497 THORNTON …</td></tr></tbody></table></div>"
      ],
      "text/plain": [
       "shape: (5, 8)\n",
       "┌────────────┬────────────┬────────────┬───────────┬───────────┬───────────┬───────────┬───────────┐\n",
       "│ owner_addr ┆ owner_addr ┆ owner_addr ┆ owner_add ┆ owner_add ┆ owner_add ┆ owner_uni ┆ owner_add │\n",
       "│ no         ┆ add        ┆ dir        ┆ rstr      ┆ rsuf      ┆ rsuf2     ┆ tno       ┆ r         │\n",
       "│ ---        ┆ ---        ┆ ---        ┆ ---       ┆ ---       ┆ ---       ┆ ---       ┆ ---       │\n",
       "│ str        ┆ str        ┆ str        ┆ str       ┆ str       ┆ str       ┆ str       ┆ str       │\n",
       "╞════════════╪════════════╪════════════╪═══════════╪═══════════╪═══════════╪═══════════╪═══════════╡\n",
       "│ 8607       ┆            ┆            ┆ SUNDALE   ┆ DR        ┆           ┆           ┆ 8607      │\n",
       "│            ┆            ┆            ┆           ┆           ┆           ┆           ┆ SUNDALE   │\n",
       "│            ┆            ┆            ┆           ┆           ┆           ┆           ┆ DR        │\n",
       "│            ┆            ┆            ┆           ┆           ┆           ┆ 324       ┆ 324       │\n",
       "│ 250        ┆            ┆            ┆ PHARR     ┆ RD        ┆ NE        ┆ 405       ┆ 250 PHARR │\n",
       "│            ┆            ┆            ┆           ┆           ┆           ┆           ┆ RD NE 405 │\n",
       "│ 5596       ┆            ┆            ┆ DENDY     ┆ TRCE      ┆           ┆           ┆ 5596      │\n",
       "│            ┆            ┆            ┆           ┆           ┆           ┆           ┆ DENDY     │\n",
       "│            ┆            ┆            ┆           ┆           ┆           ┆           ┆ TRCE      │\n",
       "│ 9497       ┆            ┆            ┆ THORNTON  ┆ BLVD      ┆           ┆           ┆ 9497      │\n",
       "│            ┆            ┆            ┆           ┆           ┆           ┆           ┆ THORNTON  │\n",
       "│            ┆            ┆            ┆           ┆           ┆           ┆           ┆ BLVD      │\n",
       "└────────────┴────────────┴────────────┴───────────┴───────────┴───────────┴───────────┴───────────┘"
      ]
     },
     "execution_count": 26,
     "metadata": {},
     "output_type": "execute_result"
    }
   ],
   "source": [
    "result[O_ADDR_VARS].sample(5)"
   ]
  },
  {
   "cell_type": "code",
   "execution_count": 27,
   "metadata": {},
   "outputs": [
    {
     "data": {
      "text/html": [
       "<div><style>\n",
       ".dataframe > thead > tr > th,\n",
       ".dataframe > tbody > tr > td {\n",
       "  text-align: right;\n",
       "}\n",
       "</style>\n",
       "<small>shape: (5,)</small><table border=\"1\" class=\"dataframe\"><thead><tr><th>owner_zip</th></tr><tr><td>str</td></tr></thead><tbody><tr><td>&quot;30338&quot;</td></tr><tr><td>&quot;30331&quot;</td></tr><tr><td>&quot;30310&quot;</td></tr><tr><td>&quot;30315&quot;</td></tr><tr><td>&quot;30327&quot;</td></tr></tbody></table></div>"
      ],
      "text/plain": [
       "shape: (5,)\n",
       "Series: 'owner_zip' [str]\n",
       "[\n",
       "\t\"30338\"\n",
       "\t\"30331\"\n",
       "\t\"30310\"\n",
       "\t\"30315\"\n",
       "\t\"30327\"\n",
       "]"
      ]
     },
     "execution_count": 27,
     "metadata": {},
     "output_type": "execute_result"
    }
   ],
   "source": [
    "result[\"owner_zip\"].sample(5)"
   ]
  },
  {
   "cell_type": "code",
   "execution_count": 20,
   "metadata": {},
   "outputs": [],
   "source": [
    "result = result.with_columns(\n",
    "    pl.col(\"street_addr\")\n",
    "    .str.strip()\n",
    "    .keep_name()\n",
    ").with_columns(\n",
    "    pl.col(\"owner_addr\")\n",
    "    .str.strip()\n",
    "    .keep_name()\n",
    ")"
   ]
  },
  {
   "cell_type": "code",
   "execution_count": 21,
   "metadata": {},
   "outputs": [],
   "source": [
    "result.write_csv(\"all_parcels_fulton.csv\")\n",
    "result.write_parquet(\"all_parcels_fulton.parquet\")"
   ]
  }
 ],
 "metadata": {
  "kernelspec": {
   "display_name": "fcs",
   "language": "python",
   "name": "python3"
  },
  "language_info": {
   "codemirror_mode": {
    "name": "ipython",
    "version": 3
   },
   "file_extension": ".py",
   "mimetype": "text/x-python",
   "name": "python",
   "nbconvert_exporter": "python",
   "pygments_lexer": "ipython3",
   "version": "3.11.4"
  }
 },
 "nbformat": 4,
 "nbformat_minor": 2
}
