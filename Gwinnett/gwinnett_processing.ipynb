{
 "cells": [
  {
   "cell_type": "code",
   "execution_count": null,
   "metadata": {},
   "outputs": [],
   "source": [
    "import pandas as pd, os, re"
   ]
  },
  {
   "cell_type": "code",
   "execution_count": null,
   "metadata": {},
   "outputs": [],
   "source": [
    "# using os to grab the filesets needed\n",
    "appeals_data_fp = '/Users/bartholemew/urban_research_group/gwinnett_organized/appeals_data'\n",
    "ownership_data_fp = '/Users/bartholemew/urban_research_group/gwinnett_organized/sales_data'\n",
    "\n",
    "appeals_docs = os.listdir(appeals_data_fp)\n",
    "ownership_docs = os.listdir(ownership_data_fp)\n",
    "\n",
    "# fixing ownership doc names\n",
    "\n",
    "for name in ownership_docs:\n",
    "    year = re.search(r'\\d{4}',name)\n",
    "    old_name = f\"{ownership_data_fp}/{name}\"\n",
    "    new_name = f\"{ownership_data_fp}/Gwinnett {year.group().strip()} Ownership Data.xlsx\"\n",
    "    os.rename(old_name, new_name)\n",
    "\n",
    "appeals_docs = os.listdir(appeals_data_fp)\n",
    "ownership_docs = os.listdir(ownership_data_fp)\n",
    "\n",
    "\n",
    "# parsing through data to find columns for var mapping\n",
    "# creating a df from each excel file\n",
    "appeals_df_list = []\n",
    "for document in appeals_docs:\n",
    "        df = pd.read_excel(f\"{appeals_data_fp}/{document}\")\n",
    "        headers = df.columns.tolist()\n",
    "        print(headers)\n",
    "        appeals_df_list.append(df)\n",
    "\n",
    "ownership_df_list = []\n",
    "for document in ownership_docs:\n",
    "        df = pd.read_excel(f\"{ownership_data_fp}/{document}\")\n",
    "        headers = df.columns.tolist()\n",
    "        print(headers)\n",
    "        ownership_df_list.append(df)\n",
    "        \n",
    "\n",
    "\n"
   ]
  },
  {
   "cell_type": "code",
   "execution_count": null,
   "metadata": {},
   "outputs": [],
   "source": [
    "ownership_df = pd.DataFrame()\n"
   ]
  }
 ],
 "metadata": {
  "kernelspec": {
   "display_name": "Python 3.11.5 ('base')",
   "language": "python",
   "name": "python3"
  },
  "language_info": {
   "codemirror_mode": {
    "name": "ipython",
    "version": 3
   },
   "file_extension": ".py",
   "mimetype": "text/x-python",
   "name": "python",
   "nbconvert_exporter": "python",
   "pygments_lexer": "ipython3",
   "version": "3.11.5"
  },
  "orig_nbformat": 4,
  "vscode": {
   "interpreter": {
    "hash": "671d031f37885787dfff3508684612b290da4eb03c177c4b7caf18804af29b85"
   }
  }
 },
 "nbformat": 4,
 "nbformat_minor": 2
}
