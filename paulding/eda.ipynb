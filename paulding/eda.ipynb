{
 "cells": [
  {
   "cell_type": "code",
   "execution_count": 37,
   "metadata": {},
   "outputs": [],
   "source": [
    "import polars as pl\n",
    "import pandas as pd\n",
    "from PyPDF2 import PdfReader\n",
    "import re\n",
    "import os\n",
    "from dbfread import DBF"
   ]
  },
  {
   "cell_type": "code",
   "execution_count": 38,
   "metadata": {},
   "outputs": [],
   "source": [
    "ROOT_DIR = \"C:\\\\Users\\\\nicho\\\\Documents\\\\research\\\\ga-tax-assessment\\\\data\\\\paulding\\\\parcels\\\\\"\n",
    "FORMAT_FILE = r\"C:\\Users\\nicho\\Documents\\research\\ga-tax-assessment\\data\\paulding\\parcels\\2012 DIGEST VENDOR FILES\\Paulding_GA_Record_Layout.pdf\"\n",
    "file_path = r'C:\\Users\\nicho\\Documents\\research\\ga-tax-assessment\\data\\paulding\\parcels\\2012 DIGEST VENDOR FILES\\2012 PAULDING_GA_DIGEST.txt'\n",
    "out_file = r'C:\\Users\\nicho\\Documents\\research\\ga-tax-assessment\\data\\paulding\\parcels\\2012 DIGEST VENDOR FILES\\converted_2012.txt'\n",
    "\n",
    "IGNORE_WORDS = [\"\",\"Description\", \"Banker\", \"Paulding County\", \"characters\", \"1\", \"2\", \"3\"]"
   ]
  },
  {
   "cell_type": "code",
   "execution_count": 41,
   "metadata": {},
   "outputs": [
    {
     "name": "stdout",
     "output_type": "stream",
     "text": [
      "2014 Digest Vendor File\n",
      "2015 Digest Vendor File\n",
      "2016 Digest Vendor File\n",
      "2017 Digest Vendor File\n",
      "2018 DIGEST VENDOR FILES\n",
      "2019 DIGEST VENDOR FILES\n",
      "2023 PAULDING_GA_DIGEST VENDOR FILES\n",
      "Paulding_GA.Public Export_2021\n",
      "Paulding_GA_2020_publicexport\n",
      "Paulding_GA_2022_Public Export\n"
     ]
    }
   ],
   "source": [
    "dirs = [d for d in os.listdir(ROOT_DIR)]\n",
    "txt_method_dirs = []\n",
    "dbf_method_dirs = []\n",
    "dfs = []\n",
    "\n",
    "for d in dirs:\n",
    "    if re.findall('2011|2012|2013', d): #'2011|2012|2013'\n",
    "        txt_method_dirs.append(d)\n",
    "    elif re.findall('2', d):\n",
    "        dbf_method_dirs.append(d)\n",
    "\n",
    "# for d in txt_method_dirs:\n",
    "#     print(ROOT_DIR + d)\n",
    "#     dfs.append(convert_txt_to_df(ROOT_DIR + d))\n",
    "\n",
    "\n",
    "for d in dbf_method_dirs:\n",
    "    print(d)\n",
    "    #dfs.append(convert_dbf_to_df(d)) # drop uneeded\n",
    "\n",
    "# # make sure to add file metadata first\n",
    "\n",
    "# df = pl.concat(dfs)\n"
   ]
  },
  {
   "cell_type": "code",
   "execution_count": 34,
   "metadata": {},
   "outputs": [],
   "source": [
    "def get_indices(text):\n",
    "    pattern = '(-\\d+)'\n",
    "    indices = [re.findall(pattern, s) for s in text]\n",
    "    indices = [int(l[0].replace(\"-\", \"\")) for l in indices if len(l) > 0]\n",
    "    indices = [n for n in indices if n != None]\n",
    "    return indices\n",
    "\n",
    "def get_columns(text):\n",
    "    pattern = r'[A-Za-z ]+'\n",
    "    columns = [re.findall(pattern, s) for s in text]\n",
    "    columns = [col[0].replace(\"  \", \" \").strip() for col in columns if len(col) > 0]\n",
    "\n",
    "    columns = [s for s in columns if (s != None and s not in IGNORE_WORDS)]\n",
    "    unique = dict()\n",
    "    for i, col in enumerate(columns):\n",
    "        if col not in unique:\n",
    "            unique[col] = 1\n",
    "        else:\n",
    "            columns[i] = col + \" \" + str(unique[col])\n",
    "            unique[col] += 1\n",
    "    return columns\n",
    "\n",
    "def insert_commas_at_indices(file_path, out_file, indices):\n",
    "    # Read the file content\n",
    "    with open(file_path, 'r') as file:\n",
    "        lines = file.readlines()\n",
    "\n",
    "    # Sort indices in reverse order to avoid index shift when inserting\n",
    "    for i, line in enumerate(lines):\n",
    "        for index in indices:\n",
    "            line = line[:index] + ',' + line[index:]\n",
    "        if i < 2:\n",
    "            print(line)\n",
    "            print(line.replace('\\n', '').strip().strip(',') + '\\n' )\n",
    "        lines[i] = line.replace('\\n', ' ').strip().lstrip(',') + '\\n'  # Update the line in the 'lines' list\n",
    "\n",
    "    # Write the modified content back to the file\n",
    "    with open(out_file, 'w') as file:\n",
    "        file.writelines(lines)\n",
    "\n",
    "def convert_txt_to_df(directory):\n",
    "    filename = [f for f in os.listdir(directory) if '.txt' in f][0]\n",
    "    layout_name = [f for f in os.listdir(directory) if '.pdf' in f][0]\n",
    "    out_filename = 'converted_' + filename.replace(\" \", \"_\")\n",
    "    out_path = directory + \"\\\\\" + out_filename\n",
    "    file_path = directory + \"\\\\\" + filename\n",
    "    layout_path = directory + \"\\\\\" + layout_name\n",
    "\n",
    "    print(f\"reading {file_path}\")\n",
    "    print(f\"layout at {layout_path}\")\n",
    "    print(f\"out at {out_path}\")\n",
    "    reader = PdfReader(layout_path)\n",
    "    text = \"\"\n",
    "    for page in reader.pages:\n",
    "        text += page.extract_text()\n",
    "    text = text.split('\\n')\n",
    "\n",
    "    indices = get_indices(text)\n",
    "\n",
    "    if \"2011\" in directory: # special case :(\n",
    "        indices += [1141]\n",
    "\n",
    "    indices = sorted(indices, reverse=True)[1:]\n",
    "    columns = get_columns(text)\n",
    "    insert_commas_at_indices(file_path, out_path, indices)\n",
    "\n",
    "    df = pl.read_csv(out_path, infer_schema_length=0)\n",
    "    df.columns = columns\n",
    "\n",
    "    return df"
   ]
  },
  {
   "cell_type": "code",
   "execution_count": null,
   "metadata": {},
   "outputs": [],
   "source": [
    "def convert_dbf_to_df(directory, ROOT_DIR):\n",
    "    "
   ]
  },
  {
   "cell_type": "code",
   "execution_count": 17,
   "metadata": {},
   "outputs": [],
   "source": [
    "dbf = DBF(r\"C:\\Users\\nicho\\Documents\\research\\ga-tax-assessment\\data\\paulding\\parcels\\2015 Digest Vendor File\\PE_TAXDETAIL.dbf\")"
   ]
  },
  {
   "cell_type": "code",
   "execution_count": 20,
   "metadata": {},
   "outputs": [],
   "source": [
    "df = pl.from_pandas(pd.DataFrame(iter(dbf)))"
   ]
  },
  {
   "cell_type": "code",
   "execution_count": 22,
   "metadata": {},
   "outputs": [
    {
     "data": {
      "text/html": [
       "<div><style>\n",
       ".dataframe > thead > tr > th,\n",
       ".dataframe > tbody > tr > td {\n",
       "  text-align: right;\n",
       "}\n",
       "</style>\n",
       "<small>shape: (5, 10)</small><table border=\"1\" class=\"dataframe\"><thead><tr><th>REALKEY</th><th>PERSKEY</th><th>TAXTYPE</th><th>TT_DESC</th><th>ASMTPCT</th><th>COVEXMPT</th><th>HSEXEMPT</th><th>MILLAGE</th><th>ESTTAX</th><th>ACCKEY</th></tr><tr><td>i64</td><td>i64</td><td>i64</td><td>str</td><td>f64</td><td>i64</td><td>i64</td><td>f64</td><td>f64</td><td>i64</td></tr></thead><tbody><tr><td>17746</td><td>0</td><td>4</td><td>&quot;County Bond&quot;</td><td>0.4</td><td>0</td><td>0</td><td>0.00222</td><td>89.04</td><td>0</td></tr><tr><td>45827</td><td>0</td><td>3</td><td>&quot;County M&amp;O&quot;</td><td>0.4</td><td>0</td><td>2000</td><td>0.007267</td><td>540.96</td><td>0</td></tr><tr><td>38731</td><td>0</td><td>6</td><td>&quot;State&quot;</td><td>0.4</td><td>0</td><td>2000</td><td>0.0001</td><td>3.65</td><td>0</td></tr><tr><td>68319</td><td>0</td><td>5</td><td>&quot;County Fire&quot;</td><td>0.4</td><td>0</td><td>0</td><td>0.0031</td><td>21.7</td><td>0</td></tr><tr><td>30917</td><td>0</td><td>4</td><td>&quot;County Bond&quot;</td><td>0.4</td><td>0</td><td>0</td><td>0.00222</td><td>169.18</td><td>0</td></tr></tbody></table></div>"
      ],
      "text/plain": [
       "shape: (5, 10)\n",
       "┌─────────┬─────────┬─────────┬─────────────┬───┬──────────┬──────────┬────────┬────────┐\n",
       "│ REALKEY ┆ PERSKEY ┆ TAXTYPE ┆ TT_DESC     ┆ … ┆ HSEXEMPT ┆ MILLAGE  ┆ ESTTAX ┆ ACCKEY │\n",
       "│ ---     ┆ ---     ┆ ---     ┆ ---         ┆   ┆ ---      ┆ ---      ┆ ---    ┆ ---    │\n",
       "│ i64     ┆ i64     ┆ i64     ┆ str         ┆   ┆ i64      ┆ f64      ┆ f64    ┆ i64    │\n",
       "╞═════════╪═════════╪═════════╪═════════════╪═══╪══════════╪══════════╪════════╪════════╡\n",
       "│ 17746   ┆ 0       ┆ 4       ┆ County Bond ┆ … ┆ 0        ┆ 0.00222  ┆ 89.04  ┆ 0      │\n",
       "│ 45827   ┆ 0       ┆ 3       ┆ County M&O  ┆ … ┆ 2000     ┆ 0.007267 ┆ 540.96 ┆ 0      │\n",
       "│ 38731   ┆ 0       ┆ 6       ┆ State       ┆ … ┆ 2000     ┆ 0.0001   ┆ 3.65   ┆ 0      │\n",
       "│ 68319   ┆ 0       ┆ 5       ┆ County Fire ┆ … ┆ 0        ┆ 0.0031   ┆ 21.7   ┆ 0      │\n",
       "│ 30917   ┆ 0       ┆ 4       ┆ County Bond ┆ … ┆ 0        ┆ 0.00222  ┆ 169.18 ┆ 0      │\n",
       "└─────────┴─────────┴─────────┴─────────────┴───┴──────────┴──────────┴────────┴────────┘"
      ]
     },
     "execution_count": 22,
     "metadata": {},
     "output_type": "execute_result"
    }
   ],
   "source": [
    "df.sample(5)"
   ]
  },
  {
   "cell_type": "code",
   "execution_count": 23,
   "metadata": {},
   "outputs": [
    {
     "data": {
      "text/html": [
       "<div><style>\n",
       ".dataframe > thead > tr > th,\n",
       ".dataframe > tbody > tr > td {\n",
       "  text-align: right;\n",
       "}\n",
       "</style>\n",
       "<small>shape: (5, 29)</small><table border=\"1\" class=\"dataframe\"><thead><tr><th>OWNKEY</th><th>LASTNAME</th><th>FIRSTNAME</th><th>MIDDLE</th><th>ADDRESS1</th><th>ADDRESS2</th><th>ADDRESS3</th><th>CITY</th><th>STATE</th><th>ZIP</th><th>HOMEPHONE</th><th>WORKPHONE</th><th>FAXNUMBER</th><th>FEI</th><th>SSN</th><th>SSN1</th><th>SST</th><th>TAXRETURN</th><th>ACCTSTATUS</th><th>MULTIOWNER</th><th>BIRTHDATE1</th><th>BIRTHDATE2</th><th>EXISTS</th><th>NO_RELEASE</th><th>CREATEDATE</th><th>EMAIL</th><th>CELLPHONE</th><th>COUNTRY</th><th>SITEADDID</th></tr><tr><td>i64</td><td>str</td><td>str</td><td>str</td><td>str</td><td>str</td><td>str</td><td>str</td><td>str</td><td>str</td><td>str</td><td>str</td><td>str</td><td>str</td><td>str</td><td>str</td><td>str</td><td>str</td><td>bool</td><td>str</td><td>str</td><td>str</td><td>bool</td><td>bool</td><td>date</td><td>str</td><td>str</td><td>str</td><td>str</td></tr></thead><tbody><tr><td>104193</td><td>&quot;RATCLIFF SONJA…</td><td>&quot;&quot;</td><td>&quot;&quot;</td><td>&quot;&quot;</td><td>&quot;PO BOX 587&quot;</td><td>&quot;&quot;</td><td>&quot;DALLAS&quot;</td><td>&quot;GA&quot;</td><td>&quot;30132&quot;</td><td>&quot;&quot;</td><td>&quot;&quot;</td><td>&quot;&quot;</td><td>&quot;&quot;</td><td>&quot;&quot;</td><td>&quot;&quot;</td><td>&quot;&quot;</td><td>&quot;&quot;</td><td>false</td><td>null</td><td>null</td><td>null</td><td>false</td><td>false</td><td>null</td><td>&quot;&quot;</td><td>&quot;&quot;</td><td>&quot;&quot;</td><td>&quot;&quot;</td></tr><tr><td>47241</td><td>&quot;VILLANI EDWARD…</td><td>&quot;&quot;</td><td>&quot;&quot;</td><td>&quot;&quot;</td><td>&quot;22 CREEKSIDE V…</td><td>&quot;&quot;</td><td>&quot;HIRAM&quot;</td><td>&quot;GA&quot;</td><td>&quot;30141&quot;</td><td>&quot;&quot;</td><td>&quot;&quot;</td><td>&quot;&quot;</td><td>&quot;&quot;</td><td>&quot;&quot;</td><td>&quot;&quot;</td><td>&quot;&quot;</td><td>&quot;&quot;</td><td>false</td><td>null</td><td>null</td><td>null</td><td>false</td><td>false</td><td>null</td><td>&quot;&quot;</td><td>&quot;&quot;</td><td>&quot;&quot;</td><td>&quot;&quot;</td></tr><tr><td>46253</td><td>&quot;TROPEANO DEBRA…</td><td>&quot;&quot;</td><td>&quot;&quot;</td><td>&quot;&quot;</td><td>&quot;293 HARRIS OAK…</td><td>&quot;&quot;</td><td>&quot;DALLAS&quot;</td><td>&quot;GA&quot;</td><td>&quot;30157&quot;</td><td>&quot;&quot;</td><td>&quot;&quot;</td><td>&quot;&quot;</td><td>&quot;&quot;</td><td>&quot;&quot;</td><td>&quot;&quot;</td><td>&quot;&quot;</td><td>&quot;&quot;</td><td>false</td><td>null</td><td>null</td><td>null</td><td>false</td><td>false</td><td>null</td><td>&quot;&quot;</td><td>&quot;&quot;</td><td>&quot;&quot;</td><td>&quot;&quot;</td></tr><tr><td>174906</td><td>&quot;WILLIAMS DANA&quot;</td><td>&quot;&quot;</td><td>&quot;&quot;</td><td>&quot;&quot;</td><td>&quot;41 LADY SAVANN…</td><td>&quot;&quot;</td><td>&quot;DALLAS&quot;</td><td>&quot;GA&quot;</td><td>&quot;30157&quot;</td><td>&quot;&quot;</td><td>&quot;&quot;</td><td>&quot;&quot;</td><td>&quot;&quot;</td><td>&quot;&quot;</td><td>&quot;&quot;</td><td>&quot;&quot;</td><td>&quot;&quot;</td><td>true</td><td>null</td><td>null</td><td>null</td><td>false</td><td>false</td><td>2015-02-10</td><td>&quot;&quot;</td><td>&quot;&quot;</td><td>&quot;&quot;</td><td>&quot;&quot;</td></tr><tr><td>147910</td><td>&quot;WIX MICHAEL WA…</td><td>&quot;&quot;</td><td>&quot;&quot;</td><td>&quot;&quot;</td><td>&quot;117 FAITHFUL D…</td><td>&quot;&quot;</td><td>&quot;TEMPLE&quot;</td><td>&quot;GA&quot;</td><td>&quot;30179&quot;</td><td>&quot;&quot;</td><td>&quot;&quot;</td><td>&quot;&quot;</td><td>&quot;&quot;</td><td>&quot;&quot;</td><td>&quot;&quot;</td><td>&quot;&quot;</td><td>&quot;&quot;</td><td>false</td><td>null</td><td>null</td><td>null</td><td>false</td><td>false</td><td>null</td><td>&quot;&quot;</td><td>&quot;&quot;</td><td>&quot;&quot;</td><td>&quot;&quot;</td></tr></tbody></table></div>"
      ],
      "text/plain": [
       "shape: (5, 29)\n",
       "┌────────┬───────────────────┬───────────┬────────┬───┬───────┬───────────┬─────────┬───────────┐\n",
       "│ OWNKEY ┆ LASTNAME          ┆ FIRSTNAME ┆ MIDDLE ┆ … ┆ EMAIL ┆ CELLPHONE ┆ COUNTRY ┆ SITEADDID │\n",
       "│ ---    ┆ ---               ┆ ---       ┆ ---    ┆   ┆ ---   ┆ ---       ┆ ---     ┆ ---       │\n",
       "│ i64    ┆ str               ┆ str       ┆ str    ┆   ┆ str   ┆ str       ┆ str     ┆ str       │\n",
       "╞════════╪═══════════════════╪═══════════╪════════╪═══╪═══════╪═══════════╪═════════╪═══════════╡\n",
       "│ 104193 ┆ RATCLIFF SONJA    ┆           ┆        ┆ … ┆       ┆           ┆         ┆           │\n",
       "│ 47241  ┆ VILLANI EDWARD    ┆           ┆        ┆ … ┆       ┆           ┆         ┆           │\n",
       "│ 46253  ┆ TROPEANO DEBRA J  ┆           ┆        ┆ … ┆       ┆           ┆         ┆           │\n",
       "│ 174906 ┆ WILLIAMS DANA     ┆           ┆        ┆ … ┆       ┆           ┆         ┆           │\n",
       "│ 147910 ┆ WIX MICHAEL WAYNE ┆           ┆        ┆ … ┆       ┆           ┆         ┆           │\n",
       "└────────┴───────────────────┴───────────┴────────┴───┴───────┴───────────┴─────────┴───────────┘"
      ]
     },
     "execution_count": 23,
     "metadata": {},
     "output_type": "execute_result"
    }
   ],
   "source": [
    "dbf = DBF(r\"C:\\Users\\nicho\\Documents\\research\\ga-tax-assessment\\data\\paulding\\parcels\\2015 Digest Vendor File\\PE_OWNER.dbf\")\n",
    "df = pl.from_pandas(pd.DataFrame(iter(dbf)))\n",
    "df.sample(5)"
   ]
  },
  {
   "cell_type": "code",
   "execution_count": 24,
   "metadata": {},
   "outputs": [
    {
     "data": {
      "text/html": [
       "<div><style>\n",
       ".dataframe > thead > tr > th,\n",
       ".dataframe > tbody > tr > td {\n",
       "  text-align: right;\n",
       "}\n",
       "</style>\n",
       "<small>shape: (5, 148)</small><table border=\"1\" class=\"dataframe\"><thead><tr><th>REALKEY</th><th>OWNKEY</th><th>HOUSE_NO</th><th>EXTENSION</th><th>STDIRECT</th><th>STTYPE</th><th>STREET_NAM</th><th>UNIT</th><th>LANDLOT</th><th>LANDDIST</th><th>LANDGMD</th><th>ZONINGCODE</th><th>COMMENT1</th><th>RETURN_VAL</th><th>ASSESS_RSN</th><th>PARCEL_NO</th><th>LEGAL_DESC</th><th>VAL_CHG</th><th>PREV_VAL</th><th>CURR_VAL</th><th>VALCHGDATE</th><th>LAND_TYPE</th><th>TAXDISTRIC</th><th>HOMEEXEMPT</th><th>CUV_RENEW</th><th>ORIGHOMVAL</th><th>CURRHOMVAL</th><th>REVIEWDATE</th><th>DATENOW</th><th>APPRAISER</th><th>PCY</th><th>CCY</th><th>HCY</th><th>OVRIDEVAL</th><th>INFLUENCE1</th><th>INFLUENCE2</th><th>INFLUENCE3</th><th>&hellip;</th><th>STATEHSVAL</th><th>FLCY</th><th>FL08VAL</th><th>FLBASEVAL</th><th>FL08ACRES</th><th>FLAPPNUM</th><th>FL08PERAC</th><th>MAVORIG</th><th>MAVCURR</th><th>MAVAG</th><th>MAVPREF</th><th>MAVPREV</th><th>MAVOVR</th><th>FMVRES</th><th>FMVCOM</th><th>FMVACC</th><th>MAVRES</th><th>MAVCOM</th><th>MAVACC</th><th>SALE_VAL</th><th>SALELAND1</th><th>SALELAND2</th><th>SALEIMP1</th><th>SALEIMP2</th><th>SALEIMPCS1</th><th>SALEIMPCS2</th><th>ADFACTOR</th><th>RETURNMAIL</th><th>ORIGHSVAL2</th><th>CURRHSVAL2</th><th>COVHS</th><th>COVPARENT</th><th>COVREALKEY</th><th>SITEADDID</th><th>UNITTYPE</th><th>COMMENTFLG</th><th>A299C</th></tr><tr><td>i64</td><td>i64</td><td>i64</td><td>str</td><td>str</td><td>str</td><td>str</td><td>str</td><td>str</td><td>str</td><td>str</td><td>str</td><td>str</td><td>i64</td><td>str</td><td>str</td><td>str</td><td>bool</td><td>i64</td><td>i64</td><td>date</td><td>i64</td><td>str</td><td>str</td><td>bool</td><td>i64</td><td>i64</td><td>date</td><td>date</td><td>str</td><td>str</td><td>str</td><td>str</td><td>i64</td><td>f64</td><td>f64</td><td>f64</td><td>&hellip;</td><td>i64</td><td>str</td><td>i64</td><td>i64</td><td>f64</td><td>str</td><td>f64</td><td>i64</td><td>i64</td><td>i64</td><td>i64</td><td>i64</td><td>bool</td><td>i64</td><td>i64</td><td>i64</td><td>i64</td><td>i64</td><td>i64</td><td>bool</td><td>i64</td><td>i64</td><td>i64</td><td>i64</td><td>str</td><td>str</td><td>f64</td><td>bool</td><td>i64</td><td>i64</td><td>bool</td><td>str</td><td>i64</td><td>str</td><td>str</td><td>bool</td><td>bool</td></tr></thead><tbody><tr><td>2167</td><td>65967</td><td>208</td><td>&quot;&quot;</td><td>&quot;&quot;</td><td>&quot;&quot;</td><td>&quot;HILLSIDE DR&quot;</td><td>&quot;&quot;</td><td>&quot;40&quot;</td><td>&quot;2&quot;</td><td>&quot;3&quot;</td><td>&quot;&quot;</td><td>null</td><td>0</td><td>&quot;&quot;</td><td>&quot;107320100000&quot;</td><td>&quot;REAL PROPERTY&quot;</td><td>false</td><td>137230</td><td>135800</td><td>null</td><td>1</td><td>&quot;01&quot;</td><td>&quot;S1&quot;</td><td>false</td><td>0</td><td>0</td><td>2013-04-11</td><td>2013-12-03</td><td>&quot;&quot;</td><td>&quot;&quot;</td><td>&quot;&quot;</td><td>&quot;&quot;</td><td>0</td><td>0.0</td><td>0.0</td><td>0.0</td><td>&hellip;</td><td>0</td><td>&quot;&quot;</td><td>0</td><td>0</td><td>0.0</td><td>&quot;&quot;</td><td>0.0</td><td>0</td><td>0</td><td>0</td><td>0</td><td>0</td><td>false</td><td>93200</td><td>0</td><td>2600</td><td>0</td><td>0</td><td>0</td><td>false</td><td>0</td><td>0</td><td>0</td><td>0</td><td>&quot;&quot;</td><td>&quot;&quot;</td><td>0.0</td><td>false</td><td>0</td><td>0</td><td>false</td><td>&quot;&quot;</td><td>0</td><td>&quot;&quot;</td><td>&quot;&quot;</td><td>false</td><td>false</td></tr><tr><td>25587</td><td>74796</td><td>295</td><td>&quot;&quot;</td><td>&quot;&quot;</td><td>&quot;&quot;</td><td>&quot;MICHAEL CT&quot;</td><td>&quot;&quot;</td><td>&quot;177&quot;</td><td>&quot;2&quot;</td><td>&quot;3&quot;</td><td>&quot;&quot;</td><td>null</td><td>0</td><td>&quot;52&quot;</td><td>&quot;112320070000&quot;</td><td>&quot;REAL PROPERTY&quot;</td><td>false</td><td>77070</td><td>90440</td><td>null</td><td>1</td><td>&quot;01&quot;</td><td>&quot;S1&quot;</td><td>false</td><td>0</td><td>0</td><td>2013-11-07</td><td>2015-03-30</td><td>&quot;svenenga&quot;</td><td>&quot;&quot;</td><td>&quot;&quot;</td><td>&quot;&quot;</td><td>0</td><td>0.0</td><td>0.0</td><td>0.0</td><td>&hellip;</td><td>0</td><td>&quot;&quot;</td><td>0</td><td>0</td><td>0.0</td><td>&quot;&quot;</td><td>0.0</td><td>0</td><td>0</td><td>0</td><td>0</td><td>0</td><td>false</td><td>69800</td><td>0</td><td>640</td><td>0</td><td>0</td><td>0</td><td>false</td><td>0</td><td>0</td><td>0</td><td>0</td><td>&quot;&quot;</td><td>&quot;&quot;</td><td>0.0</td><td>false</td><td>0</td><td>0</td><td>false</td><td>&quot;&quot;</td><td>0</td><td>&quot;&quot;</td><td>&quot;&quot;</td><td>false</td><td>false</td></tr><tr><td>45074</td><td>138927</td><td>16</td><td>&quot;&quot;</td><td>&quot;&quot;</td><td>&quot;&quot;</td><td>&quot;COLBY CT&quot;</td><td>&quot;&quot;</td><td>&quot;998&quot;</td><td>&quot;19&quot;</td><td>&quot;3&quot;</td><td>&quot;&quot;</td><td>null</td><td>0</td><td>&quot;52&quot;</td><td>&quot;198320200000&quot;</td><td>&quot;REAL PROPERTY&quot;</td><td>false</td><td>47230</td><td>79520</td><td>null</td><td>1</td><td>&quot;01&quot;</td><td>&quot;S1&quot;</td><td>false</td><td>0</td><td>0</td><td>null</td><td>2014-07-17</td><td>&quot;tcooper&quot;</td><td>&quot;&quot;</td><td>&quot;&quot;</td><td>&quot;&quot;</td><td>0</td><td>0.0</td><td>0.0</td><td>0.0</td><td>&hellip;</td><td>0</td><td>&quot;&quot;</td><td>0</td><td>0</td><td>0.0</td><td>&quot;&quot;</td><td>0.0</td><td>0</td><td>0</td><td>0</td><td>0</td><td>0</td><td>false</td><td>61400</td><td>0</td><td>3120</td><td>0</td><td>0</td><td>0</td><td>false</td><td>0</td><td>0</td><td>0</td><td>0</td><td>&quot;&quot;</td><td>&quot;&quot;</td><td>0.0</td><td>false</td><td>0</td><td>0</td><td>false</td><td>&quot;&quot;</td><td>0</td><td>&quot;&quot;</td><td>&quot;&quot;</td><td>false</td><td>false</td></tr><tr><td>54601</td><td>112800</td><td>144</td><td>&quot;&quot;</td><td>&quot;&quot;</td><td>&quot;&quot;</td><td>&quot;COLONIAL WAY&quot;</td><td>&quot;&quot;</td><td>&quot;324&quot;</td><td>&quot;2&quot;</td><td>&quot;3&quot;</td><td>&quot;&quot;</td><td>null</td><td>0</td><td>&quot;52&quot;</td><td>&quot;142220030000&quot;</td><td>&quot;REAL PROPERTY&quot;</td><td>false</td><td>190500</td><td>237100</td><td>null</td><td>1</td><td>&quot;01&quot;</td><td>&quot;L7&quot;</td><td>false</td><td>0</td><td>0</td><td>2013-09-25</td><td>2015-03-10</td><td>&quot;svenenga&quot;</td><td>&quot;&quot;</td><td>&quot;&quot;</td><td>&quot;&quot;</td><td>0</td><td>0.0</td><td>0.0</td><td>0.0</td><td>&hellip;</td><td>237100</td><td>&quot;&quot;</td><td>0</td><td>0</td><td>0.0</td><td>&quot;&quot;</td><td>0.0</td><td>0</td><td>0</td><td>0</td><td>0</td><td>0</td><td>false</td><td>193400</td><td>0</td><td>5700</td><td>0</td><td>0</td><td>0</td><td>false</td><td>0</td><td>0</td><td>0</td><td>0</td><td>&quot;&quot;</td><td>&quot;&quot;</td><td>0.0</td><td>false</td><td>0</td><td>0</td><td>false</td><td>&quot;&quot;</td><td>0</td><td>&quot;&quot;</td><td>&quot;&quot;</td><td>false</td><td>false</td></tr><tr><td>51868</td><td>135920</td><td>62</td><td>&quot;&quot;</td><td>&quot;&quot;</td><td>&quot;&quot;</td><td>&quot;GROVE PL&quot;</td><td>&quot;&quot;</td><td>&quot;776&quot;</td><td>&quot;19&quot;</td><td>&quot;3&quot;</td><td>&quot;&quot;</td><td>null</td><td>0</td><td>&quot;&quot;</td><td>&quot;193110060000&quot;</td><td>&quot;REAL PROPERTY&quot;</td><td>false</td><td>65760</td><td>80470</td><td>null</td><td>1</td><td>&quot;01&quot;</td><td>&quot;S1&quot;</td><td>false</td><td>0</td><td>0</td><td>2013-05-28</td><td>2013-12-03</td><td>&quot;&quot;</td><td>&quot;&quot;</td><td>&quot;&quot;</td><td>&quot;&quot;</td><td>0</td><td>0.0</td><td>0.0</td><td>0.0</td><td>&hellip;</td><td>0</td><td>&quot;&quot;</td><td>0</td><td>0</td><td>0.0</td><td>&quot;&quot;</td><td>0.0</td><td>0</td><td>0</td><td>0</td><td>0</td><td>0</td><td>false</td><td>64500</td><td>0</td><td>970</td><td>0</td><td>0</td><td>0</td><td>false</td><td>0</td><td>0</td><td>0</td><td>0</td><td>&quot;&quot;</td><td>&quot;&quot;</td><td>0.0</td><td>false</td><td>0</td><td>0</td><td>false</td><td>&quot;&quot;</td><td>0</td><td>&quot;&quot;</td><td>&quot;&quot;</td><td>false</td><td>false</td></tr></tbody></table></div>"
      ],
      "text/plain": [
       "shape: (5, 148)\n",
       "┌─────────┬────────┬──────────┬───────────┬───┬───────────┬──────────┬────────────┬───────┐\n",
       "│ REALKEY ┆ OWNKEY ┆ HOUSE_NO ┆ EXTENSION ┆ … ┆ SITEADDID ┆ UNITTYPE ┆ COMMENTFLG ┆ A299C │\n",
       "│ ---     ┆ ---    ┆ ---      ┆ ---       ┆   ┆ ---       ┆ ---      ┆ ---        ┆ ---   │\n",
       "│ i64     ┆ i64    ┆ i64      ┆ str       ┆   ┆ str       ┆ str      ┆ bool       ┆ bool  │\n",
       "╞═════════╪════════╪══════════╪═══════════╪═══╪═══════════╪══════════╪════════════╪═══════╡\n",
       "│ 2167    ┆ 65967  ┆ 208      ┆           ┆ … ┆           ┆          ┆ false      ┆ false │\n",
       "│ 25587   ┆ 74796  ┆ 295      ┆           ┆ … ┆           ┆          ┆ false      ┆ false │\n",
       "│ 45074   ┆ 138927 ┆ 16       ┆           ┆ … ┆           ┆          ┆ false      ┆ false │\n",
       "│ 54601   ┆ 112800 ┆ 144      ┆           ┆ … ┆           ┆          ┆ false      ┆ false │\n",
       "│ 51868   ┆ 135920 ┆ 62       ┆           ┆ … ┆           ┆          ┆ false      ┆ false │\n",
       "└─────────┴────────┴──────────┴───────────┴───┴───────────┴──────────┴────────────┴───────┘"
      ]
     },
     "execution_count": 24,
     "metadata": {},
     "output_type": "execute_result"
    }
   ],
   "source": [
    "dbf = DBF(r\"C:\\Users\\nicho\\Documents\\research\\ga-tax-assessment\\data\\paulding\\parcels\\2015 Digest Vendor File\\PE_REALPROP.dbf\")\n",
    "df = pl.from_pandas(pd.DataFrame(iter(dbf)))\n",
    "df.sample(5)"
   ]
  }
 ],
 "metadata": {
  "kernelspec": {
   "display_name": "fcs",
   "language": "python",
   "name": "python3"
  },
  "language_info": {
   "codemirror_mode": {
    "name": "ipython",
    "version": 3
   },
   "file_extension": ".py",
   "mimetype": "text/x-python",
   "name": "python",
   "nbconvert_exporter": "python",
   "pygments_lexer": "ipython3",
   "version": "3.11.4"
  }
 },
 "nbformat": 4,
 "nbformat_minor": 2
}
