{
 "cells": [
  {
   "cell_type": "markdown",
   "metadata": {},
   "source": [
    "# Data Processing For Fulton County Sales and Parcel Data"
   ]
  },
  {
   "cell_type": "markdown",
   "metadata": {},
   "source": [
    "### Helper Functions\n",
    "---"
   ]
  },
  {
   "cell_type": "code",
   "execution_count": 2,
   "metadata": {},
   "outputs": [],
   "source": [
    "import os\n",
    "import polars as pl\n",
    "import re\n",
    "\n",
    "pl.enable_string_cache(True)\n",
    "pl.Config.set_tbl_cols = 200"
   ]
  },
  {
   "cell_type": "code",
   "execution_count": 3,
   "metadata": {},
   "outputs": [],
   "source": [
    "def read_file(path: str, dtypes: dict, new_names: list = []) -> pl.DataFrame:\n",
    "    print(\"Reading file: \", path)\n",
    "    df = pl.DataFrame()\n",
    "    columns = [x for x in dtypes.keys()]\n",
    "    name_mapping = dict(zip(columns, new_names))\n",
    "\n",
    "    if path[-4:len(path)] == \"xlsx\":\n",
    "        df = pl.read_excel(path,\n",
    "                           xlsx2csv_options= {\"ignore_formats\": [\"date\", \"float\"], \"infer_schema_length\": 0},\n",
    "                           read_csv_options= {\"infer_schema_length\": 0, \"columns\": columns, \"dtypes\": dtypes}\n",
    "        )\n",
    "    else:\n",
    "        df = pl.read_csv(path,\n",
    "                         separator= '\\t',\n",
    "                         columns= columns,\n",
    "                         dtypes= dtypes)\n",
    "    \n",
    "    if new_names:\n",
    "        df = df.rename(name_mapping)\n",
    "\n",
    "    return df\n",
    "\n",
    "def strip_parid(df: pl.DataFrame) -> pl.DataFrame:\n",
    "    df = df.with_columns(\n",
    "        pl.col('parid').str.replace_all(' ', '').alias('parid_strip')\n",
    "    )\n",
    "    return df"
   ]
  },
  {
   "cell_type": "code",
   "execution_count": 4,
   "metadata": {},
   "outputs": [],
   "source": [
    "##############################\n",
    "# SET PRE-PROCESSING VARIABLES\n",
    "##############################\n",
    "parcels_path = \"C:/Users/nicho/Documents/research/FCS/data/digest/\"\n",
    "sales_path = \"C:/Users/nicho/Documents/research/FCS/data/sales/\"\n",
    "parcel_dtypes = {\n",
    "    'Taxyr': pl.Categorical, 'Parid': pl.Utf8, 'Nbhd': pl.Categorical,  \n",
    "    'Situs Adrno': pl.Int64, 'Situs Adrdir': pl.Utf8, \n",
    "    'Situs Adrstr': pl.Utf8, 'Situs Adrsuf': pl.Utf8, 'Cityname': pl.Categorical, \n",
    "    'Zoning': pl.Categorical, 'Muni': pl.Categorical, 'Class': pl.Categorical, \n",
    "    'Luc': pl.Categorical, 'Livunit': pl.Utf8, 'Calcacres': pl.Utf8, \n",
    "    'Note1': pl.Utf8, 'Ofcard': pl.Int16, 'Chgrsn': pl.Categorical,\n",
    "    'Taxdist': pl.Categorical, 'Own1': pl.Utf8, \n",
    "    'Own2': pl.Utf8, 'Owner Adrno': pl.Utf8, \n",
    "    'Owner Adradd': pl.Utf8, 'Owner Adrdir': pl.Categorical, \n",
    "    'Owner Adrstr': pl.Utf8, 'Owner Adrsuf': pl.Categorical, \n",
    "    'Owner Adrsuf2': pl.Utf8, 'Statecode': pl.Categorical, \n",
    "    'Country': pl.Categorical, 'Unitno': pl.Utf8, 'Zip1': pl.Utf8, \n",
    "    'Aprland': pl.Utf8, 'Aprbldg': pl.Utf8, 'Aprtot': pl.Utf8,\n",
    "    'D Card': pl.Categorical, 'Style': pl.Categorical, \n",
    "    'D Yrblt': pl.Categorical, 'D Yrremod': pl.Int32,\n",
    "    'Rmtot': pl.Int16, 'Rmbed': pl.Int16, \n",
    "    'Fixbath': pl.Int16, 'Fixhalf': pl.Int16\n",
    "}\n",
    "parcel_new_names = [\n",
    "    'taxyr', 'parid', 'nbhd', 'site_adrno', 'site_adrdir',\n",
    "    'site_adrstr', 'site_adrsuf', 'site_cityname',\n",
    "    'zoning', 'site_muni', 'class', 'luc', 'livunit', 'calcacres',\n",
    "    'note1', 'of_card', 'change_reason', 'taxdist', 'own1', 'own2',\n",
    "    'own_adrno', 'own_adradd', 'own_adrdir', 'own_adrstr', 'own_adrsuf',\n",
    "    'own_adrsuf2', 'own_statecode', 'own_country', 'own_unitno',\n",
    "    'own_zip', 'aprland', 'aprbldg', 'aprtot', 'card', 'style', 'yrblt',\n",
    "    'yr_remod', 'rmtot', 'rmbed', 'fixbath', 'fixhalf'\n",
    "]\n",
    "sales_dtypes = {\n",
    "    'Taxyr': pl.Categorical, 'Saledt: Year (YYYY)': pl.Categorical,\n",
    "    'Saledt: Month (Mon)': pl.Categorical, 'Parid': pl.Utf8,\n",
    "    'Saledt': pl.Utf8, 'SALES PRICE': pl.Utf8, \n",
    "    'FAIR MARKET VALUE': pl.Utf8, 'DEED TYPE': pl.Categorical,\n",
    "    'Aprland': pl.Utf8, 'Aprbldg': pl.Utf8,\n",
    "    'Costval': pl.Utf8, 'Saleval': pl.Categorical, 'Who': pl.Utf8,\n",
    "    'Wen': pl.Utf8, 'GRANTOR': pl.Utf8, 'GRANTEE': pl.Utf8,\n",
    "    'Adrpre':pl.Categorical, 'Adrno': pl.Utf8,\n",
    "    'Adrdir': pl.Categorical, 'Adrstr': pl.Utf8,\n",
    "    'Adrsuf': pl.Categorical, 'Adrsuf2': pl.Categorical,\n",
    "    'Cityname': pl.Categorical, 'Unitno': pl.Utf8,\n",
    "    'Livunit': pl.Int16\n",
    "}\n",
    "sales_new_names = [\n",
    "    'taxyr', 'saleyr', 'sale_month', 'parid',\n",
    "    'sale_date', 'salesprice', 'fmv', 'deed',\n",
    "    'sale_aprland', 'sale_aprbldg',\n",
    "    'costval', 'saleval', 'appraiser', 'when', 'grantor',\n",
    "    'grantee', 'sale_adrpre', 'sale_adrno', 'sale_adrdir',\n",
    "    'sale_adrstr', 'sale_adrsuf', 'sale_adrsuf2',\n",
    "    'sale_cityname', 'sale_unitno', 'livunit'\n",
    "]"
   ]
  },
  {
   "cell_type": "markdown",
   "metadata": {},
   "source": [
    "### Processing Procedure\n",
    "---"
   ]
  },
  {
   "cell_type": "markdown",
   "metadata": {},
   "source": [
    "Read all files to join; verify file groupings by year are as expected."
   ]
  },
  {
   "cell_type": "code",
   "execution_count": 5,
   "metadata": {},
   "outputs": [
    {
     "data": {
      "text/plain": [
       "[['C:/Users/nicho/Documents/research/FCS/data/sales/Sales2021.txt',\n",
       "  'C:/Users/nicho/Documents/research/FCS/data/digest/parcel_14_2021.xlsx',\n",
       "  'C:/Users/nicho/Documents/research/FCS/data/digest/parcel_17_2021.xlsx',\n",
       "  'C:/Users/nicho/Documents/research/FCS/data/digest/parcel_atl_2021.xlsx',\n",
       "  'C:/Users/nicho/Documents/research/FCS/data/digest/parcel_nf_2021.xlsx',\n",
       "  'C:/Users/nicho/Documents/research/FCS/data/digest/parcel_sf_2021.xlsx'],\n",
       " ['C:/Users/nicho/Documents/research/FCS/data/sales/Sales2022.txt',\n",
       "  'C:/Users/nicho/Documents/research/FCS/data/digest/parcel_14_2022.xlsx',\n",
       "  'C:/Users/nicho/Documents/research/FCS/data/digest/parcel_17_2022.xlsx',\n",
       "  'C:/Users/nicho/Documents/research/FCS/data/digest/parcel_atl_2022.xlsx',\n",
       "  'C:/Users/nicho/Documents/research/FCS/data/digest/parcel_nf_2022.xlsx',\n",
       "  'C:/Users/nicho/Documents/research/FCS/data/digest/parcel_sf_2022.xlsx']]"
      ]
     },
     "execution_count": 5,
     "metadata": {},
     "output_type": "execute_result"
    }
   ],
   "source": [
    "parcel_files = os.listdir(parcels_path)\n",
    "sales_files = os.listdir(sales_path)\n",
    "files_by_year = {}\n",
    "\n",
    "for yr in range(2011, 2023):\n",
    "    files_by_year[yr] = [sales_path + file for file in sales_files if str(yr) in file] \\\n",
    "                    + [parcels_path + file for file in parcel_files if str(yr) in file]\n",
    "    \n",
    "[files_by_year[x] for x in files_by_year][len(files_by_year)-2:]"
   ]
  },
  {
   "cell_type": "markdown",
   "metadata": {},
   "source": [
    "Procedure"
   ]
  },
  {
   "cell_type": "markdown",
   "metadata": {},
   "source": [
    "- Merge Sales with Their Associated Parcel Info\n",
    "- Look if there are duplicates within appended parcel data for each year\n",
    "- Make an Appended Sales\n",
    "- Make an Appended Parcel?\n",
    "- All Parcel?"
   ]
  },
  {
   "cell_type": "code",
   "execution_count": 6,
   "metadata": {},
   "outputs": [],
   "source": [
    "def merge_year(\n",
    "    sales: str,\n",
    "    parcel: list,\n",
    "    merge_type: bool,\n",
    "    save_steps: bool = True\n",
    ") -> pl.DataFrame:\n",
    "    '''Merges sales and parcel files for a given year\n",
    "    \n",
    "    Keyword arguments:\n",
    "    sales: path to sales file\n",
    "    parcel: path to parcel file\n",
    "    merge_type: True if left join on sales, False if left join on parcel\n",
    "    save_steps: True if steps should be saved to a CSV\n",
    "    '''\n",
    "    sale_yr = re.findall(r'\\d+', sales)[0]\n",
    "    sales_df = read_file(sales, sales_dtypes, sales_new_names)\n",
    "    parcel_dfs = [read_file(file, parcel_dtypes, parcel_new_names) for file in parcel]\n",
    "    parcel_append = pl.concat(parcel_dfs)\n",
    "\n",
    "    parcel_init_len = len(parcel_append)\n",
    "\n",
    "    parcel_append = parcel_append.unique()\n",
    "\n",
    "    sales_df = strip_parid(sales_df)\n",
    "    parcel_append = strip_parid(parcel_append)\n",
    "\n",
    "    if merge_type:\n",
    "        merged = sales_df.join(parcel_append, how='left', on=['parid_strip', 'taxyr'])\n",
    "    else:\n",
    "        merged = parcel_append.join(sales_df, how='left', on=['parid_strip', 'taxyr'])\n",
    "\n",
    "    if save_steps:\n",
    "        parcel_append.write_parquet('../output/parcel/parcels_appended_' + sale_yr + '.parquet')\n",
    "        merged.write_parquet('../output/merged/parcel_sales' + sale_yr + '.parquet')\n",
    "\n",
    "    parcel_final_len = len(parcel_append)\n",
    "\n",
    "    print(\"Original size of sales: \", len(sales_df))\n",
    "    print(\"Original size of parcels: \", parcel_init_len)\n",
    "    print('Additional rows generated (merged - sales): ', len(merged) - len(sales_df))\n",
    "    print('Duplicate rows in parcel data: ', parcel_init_len - parcel_final_len)\n",
    "\n",
    "    unmatched = merged.filter(pl.col('parid_right').is_null())['parid'].to_list()\n",
    "    error_path = r'../output/errors/merged_unmatched_' + sale_yr + '.csv'\n",
    "    with open(error_path, 'w') as writer:\n",
    "        for parid in unmatched:\n",
    "            writer.write(\"%s\\n\" % parid)\n",
    "\n",
    "    print(\"Wrote unmatched Parcel IDs to: \", error_path)\n",
    "    print('Done with year ', sale_yr)\n",
    "\n",
    "    return merged"
   ]
  },
  {
   "cell_type": "code",
   "execution_count": 7,
   "metadata": {},
   "outputs": [
    {
     "name": "stdout",
     "output_type": "stream",
     "text": [
      "Reading file:  C:/Users/nicho/Documents/research/FCS/data/sales/Sales2011.txt\n",
      "Reading file:  C:/Users/nicho/Documents/research/FCS/data/digest/parcel_14_2010-2011.xlsx\n",
      "Reading file:  C:/Users/nicho/Documents/research/FCS/data/digest/parcel_17_2010-2011.xlsx\n",
      "Reading file:  C:/Users/nicho/Documents/research/FCS/data/digest/parcel_atl_2011-2012.xlsx\n",
      "Reading file:  C:/Users/nicho/Documents/research/FCS/data/digest/parcel_nf_2010-2011.xlsx\n",
      "Reading file:  C:/Users/nicho/Documents/research/FCS/data/digest/parcel_sf_2010-2011.xlsx\n",
      "Original size of sales:  47806\n",
      "Original size of parcels:  941997\n",
      "Additional rows generated (merged - sales):  772858\n",
      "Duplicate rows in parcel data:  136006\n",
      "Wrote unmatched Parcel IDs to:  ../output/errors/merged_unmatched_2011.csv\n",
      "Done with year  2011\n",
      "Reading file:  C:/Users/nicho/Documents/research/FCS/data/sales/Sales2012.txt\n",
      "Reading file:  C:/Users/nicho/Documents/research/FCS/data/digest/parcel_14_2012-2013.xlsx\n",
      "Reading file:  C:/Users/nicho/Documents/research/FCS/data/digest/parcel_17_2012-2013.xlsx\n",
      "Reading file:  C:/Users/nicho/Documents/research/FCS/data/digest/parcel_atl_2011-2012.xlsx\n",
      "Reading file:  C:/Users/nicho/Documents/research/FCS/data/digest/parcel_nf_2012-2013.xlsx\n",
      "Reading file:  C:/Users/nicho/Documents/research/FCS/data/digest/parcel_sf_2012-2013.xlsx\n",
      "Original size of sales:  39987\n",
      "Original size of parcels:  944039\n",
      "Additional rows generated (merged - sales):  778746\n",
      "Duplicate rows in parcel data:  136130\n",
      "Wrote unmatched Parcel IDs to:  ../output/errors/merged_unmatched_2012.csv\n",
      "Done with year  2012\n",
      "Reading file:  C:/Users/nicho/Documents/research/FCS/data/sales/Sales2013.txt\n",
      "Reading file:  C:/Users/nicho/Documents/research/FCS/data/digest/parcel_14_2012-2013.xlsx\n",
      "Reading file:  C:/Users/nicho/Documents/research/FCS/data/digest/parcel_17_2012-2013.xlsx\n",
      "Reading file:  C:/Users/nicho/Documents/research/FCS/data/digest/parcel_atl_2013-2014.xlsx\n",
      "Reading file:  C:/Users/nicho/Documents/research/FCS/data/digest/parcel_nf_2012-2013.xlsx\n",
      "Reading file:  C:/Users/nicho/Documents/research/FCS/data/digest/parcel_sf_2012-2013.xlsx\n",
      "Original size of sales:  47461\n",
      "Original size of parcels:  944655\n",
      "Additional rows generated (merged - sales):  772975\n",
      "Duplicate rows in parcel data:  136408\n",
      "Wrote unmatched Parcel IDs to:  ../output/errors/merged_unmatched_2013.csv\n",
      "Done with year  2013\n",
      "Reading file:  C:/Users/nicho/Documents/research/FCS/data/sales/Sales2014.txt\n",
      "Reading file:  C:/Users/nicho/Documents/research/FCS/data/digest/parcel_14_2014.xlsx\n",
      "Reading file:  C:/Users/nicho/Documents/research/FCS/data/digest/parcel_17_2014.xlsx\n",
      "Reading file:  C:/Users/nicho/Documents/research/FCS/data/digest/parcel_atl_2013-2014.xlsx\n",
      "Reading file:  C:/Users/nicho/Documents/research/FCS/data/digest/parcel_nf_2014.xlsx\n",
      "Reading file:  C:/Users/nicho/Documents/research/FCS/data/digest/parcel_sf_2014.xlsx\n",
      "Original size of sales:  18692\n",
      "Original size of parcels:  538881\n",
      "Additional rows generated (merged - sales):  456744\n",
      "Duplicate rows in parcel data:  64256\n",
      "Wrote unmatched Parcel IDs to:  ../output/errors/merged_unmatched_2014.csv\n",
      "Done with year  2014\n",
      "Reading file:  C:/Users/nicho/Documents/research/FCS/data/sales/Sales2015.txt\n",
      "Reading file:  C:/Users/nicho/Documents/research/FCS/data/digest/parcel_14_2015.xlsx\n",
      "Reading file:  C:/Users/nicho/Documents/research/FCS/data/digest/parcel_17_2015.xlsx\n",
      "Reading file:  C:/Users/nicho/Documents/research/FCS/data/digest/parcel_atl_2015.xlsx\n",
      "Reading file:  C:/Users/nicho/Documents/research/FCS/data/digest/parcel_nf_2015.xlsx\n",
      "Reading file:  C:/Users/nicho/Documents/research/FCS/data/digest/parcel_sf_2015.xlsx\n",
      "Original size of sales:  18681\n",
      "Original size of parcels:  372197\n",
      "Additional rows generated (merged - sales):  289626\n",
      "Duplicate rows in parcel data:  64355\n",
      "Wrote unmatched Parcel IDs to:  ../output/errors/merged_unmatched_2015.csv\n",
      "Done with year  2015\n",
      "Reading file:  C:/Users/nicho/Documents/research/FCS/data/sales/Sales2016.txt\n",
      "Reading file:  C:/Users/nicho/Documents/research/FCS/data/digest/parcel_17_2016.xlsx\n",
      "Reading file:  C:/Users/nicho/Documents/research/FCS/data/digest/parcel_atl_2016.xlsx\n",
      "Reading file:  C:/Users/nicho/Documents/research/FCS/data/digest/parcel_nf_2016.xlsx\n",
      "Reading file:  C:/Users/nicho/Documents/research/FCS/data/digest/parcel_sf_2016.xlsx\n",
      "Original size of sales:  24518\n",
      "Original size of parcels:  390051\n",
      "Additional rows generated (merged - sales):  302308\n",
      "Duplicate rows in parcel data:  64707\n",
      "Wrote unmatched Parcel IDs to:  ../output/errors/merged_unmatched_2016.csv\n",
      "Done with year  2016\n",
      "Reading file:  C:/Users/nicho/Documents/research/FCS/data/sales/Sales2017.txt\n",
      "Reading file:  C:/Users/nicho/Documents/research/FCS/data/digest/parcel_14_2017.xlsx\n",
      "Reading file:  C:/Users/nicho/Documents/research/FCS/data/digest/parcel_17_2017.xlsx\n",
      "Reading file:  C:/Users/nicho/Documents/research/FCS/data/digest/parcel_atl_2017.xlsx\n",
      "Reading file:  C:/Users/nicho/Documents/research/FCS/data/digest/parcel_nf_2017.xlsx\n",
      "Reading file:  C:/Users/nicho/Documents/research/FCS/data/digest/parcel_sf_2017.xlsx\n",
      "Original size of sales:  22221\n",
      "Original size of parcels:  481028\n",
      "Additional rows generated (merged - sales):  321163\n",
      "Duplicate rows in parcel data:  138227\n",
      "Wrote unmatched Parcel IDs to:  ../output/errors/merged_unmatched_2017.csv\n",
      "Done with year  2017\n",
      "Reading file:  C:/Users/nicho/Documents/research/FCS/data/sales/Sales2018.txt\n",
      "Reading file:  C:/Users/nicho/Documents/research/FCS/data/digest/parcel_14_2018.xlsx\n",
      "Reading file:  C:/Users/nicho/Documents/research/FCS/data/digest/parcel_17_2018.xlsx\n",
      "Reading file:  C:/Users/nicho/Documents/research/FCS/data/digest/parcel_atl_2018.xlsx\n",
      "Reading file:  C:/Users/nicho/Documents/research/FCS/data/digest/parcel_nf_2018.xlsx\n",
      "Reading file:  C:/Users/nicho/Documents/research/FCS/data/digest/parcel_sf_2018.xlsx\n",
      "Original size of sales:  49044\n",
      "Original size of parcels:  483846\n",
      "Additional rows generated (merged - sales):  306209\n",
      "Duplicate rows in parcel data:  138869\n",
      "Wrote unmatched Parcel IDs to:  ../output/errors/merged_unmatched_2018.csv\n",
      "Done with year  2018\n",
      "Reading file:  C:/Users/nicho/Documents/research/FCS/data/sales/Sales2019.txt\n",
      "Reading file:  C:/Users/nicho/Documents/research/FCS/data/digest/parcel_14_2019.xlsx\n",
      "Reading file:  C:/Users/nicho/Documents/research/FCS/data/digest/parcel_17_2019.xlsx\n",
      "Reading file:  C:/Users/nicho/Documents/research/FCS/data/digest/parcel_atl_2019.xlsx\n",
      "Reading file:  C:/Users/nicho/Documents/research/FCS/data/digest/parcel_nf_2019.xlsx\n",
      "Reading file:  C:/Users/nicho/Documents/research/FCS/data/digest/parcel_sf_2019.xlsx\n",
      "Original size of sales:  51269\n",
      "Original size of parcels:  486895\n",
      "Additional rows generated (merged - sales):  307140\n",
      "Duplicate rows in parcel data:  139598\n",
      "Wrote unmatched Parcel IDs to:  ../output/errors/merged_unmatched_2019.csv\n",
      "Done with year  2019\n",
      "Reading file:  C:/Users/nicho/Documents/research/FCS/data/sales/Sales2020.txt\n",
      "Reading file:  C:/Users/nicho/Documents/research/FCS/data/digest/parcel_14_2020.xlsx\n",
      "Reading file:  C:/Users/nicho/Documents/research/FCS/data/digest/parcel_17_2020.xlsx\n",
      "Reading file:  C:/Users/nicho/Documents/research/FCS/data/digest/parcel_atl_2020.xlsx\n",
      "Reading file:  C:/Users/nicho/Documents/research/FCS/data/digest/parcel_nf_2020.xlsx\n",
      "Reading file:  C:/Users/nicho/Documents/research/FCS/data/digest/parcel_sf_2020.xlsx\n",
      "Original size of sales:  50320\n",
      "Original size of parcels:  490039\n",
      "Additional rows generated (merged - sales):  309774\n",
      "Duplicate rows in parcel data:  140543\n",
      "Wrote unmatched Parcel IDs to:  ../output/errors/merged_unmatched_2020.csv\n",
      "Done with year  2020\n",
      "Reading file:  C:/Users/nicho/Documents/research/FCS/data/sales/Sales2021.txt\n",
      "Reading file:  C:/Users/nicho/Documents/research/FCS/data/digest/parcel_14_2021.xlsx\n",
      "Reading file:  C:/Users/nicho/Documents/research/FCS/data/digest/parcel_17_2021.xlsx\n",
      "Reading file:  C:/Users/nicho/Documents/research/FCS/data/digest/parcel_atl_2021.xlsx\n",
      "Reading file:  C:/Users/nicho/Documents/research/FCS/data/digest/parcel_nf_2021.xlsx\n",
      "Reading file:  C:/Users/nicho/Documents/research/FCS/data/digest/parcel_sf_2021.xlsx\n",
      "Original size of sales:  48481\n",
      "Original size of parcels:  492147\n",
      "Additional rows generated (merged - sales):  311782\n",
      "Duplicate rows in parcel data:  140605\n",
      "Wrote unmatched Parcel IDs to:  ../output/errors/merged_unmatched_2021.csv\n",
      "Done with year  2021\n",
      "Reading file:  C:/Users/nicho/Documents/research/FCS/data/sales/Sales2022.txt\n",
      "Reading file:  C:/Users/nicho/Documents/research/FCS/data/digest/parcel_14_2022.xlsx\n",
      "Reading file:  C:/Users/nicho/Documents/research/FCS/data/digest/parcel_17_2022.xlsx\n",
      "Reading file:  C:/Users/nicho/Documents/research/FCS/data/digest/parcel_atl_2022.xlsx\n",
      "Reading file:  C:/Users/nicho/Documents/research/FCS/data/digest/parcel_nf_2022.xlsx\n",
      "Reading file:  C:/Users/nicho/Documents/research/FCS/data/digest/parcel_sf_2022.xlsx\n",
      "Original size of sales:  58758\n",
      "Original size of parcels:  495680\n",
      "Additional rows generated (merged - sales):  307267\n",
      "Duplicate rows in parcel data:  141506\n",
      "Wrote unmatched Parcel IDs to:  ../output/errors/merged_unmatched_2022.csv\n",
      "Done with year  2022\n"
     ]
    }
   ],
   "source": [
    "sales_left_parcel = [merge_year(files[0], files[1:], False) for files in files_by_year.values()]"
   ]
  },
  {
   "cell_type": "code",
   "execution_count": 8,
   "metadata": {},
   "outputs": [],
   "source": [
    "full_sales_parcel = pl.concat(sales_left_parcel, how='diagonal')"
   ]
  },
  {
   "cell_type": "markdown",
   "metadata": {},
   "source": [
    "Verify data looks as expected"
   ]
  },
  {
   "cell_type": "code",
   "execution_count": 9,
   "metadata": {},
   "outputs": [
    {
     "data": {
      "text/html": [
       "<div><style>\n",
       ".dataframe > thead > tr > th,\n",
       ".dataframe > tbody > tr > td {\n",
       "  text-align: right;\n",
       "}\n",
       "</style>\n",
       "<small>shape: (4, 66)</small><table border=\"1\" class=\"dataframe\"><thead><tr><th>taxyr</th><th>parid</th><th>nbhd</th><th>site_adrno</th><th>site_adrdir</th><th>site_adrstr</th><th>site_adrsuf</th><th>site_cityname</th><th>zoning</th><th>site_muni</th><th>class</th><th>luc</th><th>livunit</th><th>calcacres</th><th>note1</th><th>of_card</th><th>change_reason</th><th>taxdist</th><th>own1</th><th>own2</th><th>own_adrno</th><th>own_adradd</th><th>own_adrdir</th><th>own_adrstr</th><th>own_adrsuf</th><th>own_adrsuf2</th><th>own_statecode</th><th>own_country</th><th>own_unitno</th><th>own_zip</th><th>aprland</th><th>aprbldg</th><th>aprtot</th><th>card</th><th>style</th><th>yrblt</th><th>yr_remod</th><th>rmtot</th><th>rmbed</th><th>fixbath</th><th>fixhalf</th><th>parid_strip</th><th>saleyr</th><th>sale_month</th><th>parid_right</th><th>sale_date</th><th>salesprice</th><th>fmv</th><th>deed</th><th>sale_aprland</th><th>sale_aprbldg</th><th>costval</th><th>saleval</th><th>appraiser</th><th>when</th><th>grantor</th><th>grantee</th><th>sale_adrpre</th><th>sale_adrno</th><th>sale_adrdir</th><th>sale_adrstr</th><th>sale_adrsuf</th><th>sale_adrsuf2</th><th>sale_cityname</th><th>sale_unitno</th><th>livunit_right</th></tr><tr><td>cat</td><td>str</td><td>cat</td><td>i64</td><td>str</td><td>str</td><td>str</td><td>cat</td><td>cat</td><td>cat</td><td>cat</td><td>cat</td><td>str</td><td>str</td><td>str</td><td>i16</td><td>cat</td><td>cat</td><td>str</td><td>str</td><td>str</td><td>str</td><td>cat</td><td>str</td><td>cat</td><td>str</td><td>cat</td><td>cat</td><td>str</td><td>str</td><td>str</td><td>str</td><td>str</td><td>cat</td><td>cat</td><td>cat</td><td>i32</td><td>i16</td><td>i16</td><td>i16</td><td>i16</td><td>str</td><td>cat</td><td>cat</td><td>str</td><td>str</td><td>str</td><td>str</td><td>cat</td><td>str</td><td>str</td><td>str</td><td>cat</td><td>str</td><td>str</td><td>str</td><td>str</td><td>cat</td><td>str</td><td>cat</td><td>str</td><td>cat</td><td>cat</td><td>cat</td><td>str</td><td>i16</td></tr></thead><tbody><tr><td>&quot;2012&quot;</td><td>&quot;14F00040004003…</td><td>&quot;4618&quot;</td><td>2943</td><td>null</td><td>&quot;FAIRBURN&quot;</td><td>&quot;RD&quot;</td><td>&quot;ATLANTA&quot;</td><td>&quot;R4&quot;</td><td>&quot;5&quot;</td><td>&quot;R3&quot;</td><td>&quot;101&quot;</td><td>&quot;1&quot;</td><td>&quot;0.2581&quot;</td><td>&quot;AN CHGE TO 461…</td><td>1</td><td>&quot;RV&quot;</td><td>&quot;5&quot;</td><td>&quot;WILLIAMS JANET…</td><td>null</td><td>&quot;2943&quot;</td><td>null</td><td>null</td><td>&quot;FAIRBURN&quot;</td><td>&quot;RD&quot;</td><td>&quot;SW&quot;</td><td>&quot;GA&quot;</td><td>null</td><td>null</td><td>&quot;30331&quot;</td><td>&quot;10100&quot;</td><td>&quot;22400&quot;</td><td>&quot;32500&quot;</td><td>&quot;1&quot;</td><td>&quot;2&quot;</td><td>&quot;1968&quot;</td><td>null</td><td>5</td><td>3</td><td>1</td><td>1</td><td>&quot;14F00040004003…</td><td>null</td><td>null</td><td>null</td><td>null</td><td>null</td><td>null</td><td>null</td><td>null</td><td>null</td><td>null</td><td>null</td><td>null</td><td>null</td><td>null</td><td>null</td><td>null</td><td>null</td><td>null</td><td>null</td><td>null</td><td>null</td><td>null</td><td>null</td><td>null</td></tr><tr><td>&quot;2016&quot;</td><td>&quot;11 06700265016…</td><td>&quot;1100&quot;</td><td>10990</td><td>null</td><td>&quot;PARSONS&quot;</td><td>&quot;RD&quot;</td><td>&quot;FUL&quot;</td><td>&quot;R3C&quot;</td><td>&quot;57&quot;</td><td>&quot;R4&quot;</td><td>&quot;101&quot;</td><td>&quot;1&quot;</td><td>&quot;2.64&quot;</td><td>null</td><td>1</td><td>&quot;MN&quot;</td><td>&quot;57&quot;</td><td>&quot;FISHOV ILYA  E…</td><td>null</td><td>&quot;10990&quot;</td><td>null</td><td>null</td><td>&quot;PARSONS&quot;</td><td>&quot;RD&quot;</td><td>null</td><td>&quot;GA&quot;</td><td>null</td><td>null</td><td>&quot;30097&quot;</td><td>&quot;51700&quot;</td><td>&quot;65600&quot;</td><td>&quot;117300&quot;</td><td>&quot;1&quot;</td><td>&quot;2&quot;</td><td>&quot;1969&quot;</td><td>null</td><td>7</td><td>4</td><td>3</td><td>1</td><td>&quot;11067002650162…</td><td>null</td><td>null</td><td>null</td><td>null</td><td>null</td><td>null</td><td>null</td><td>null</td><td>null</td><td>null</td><td>null</td><td>null</td><td>null</td><td>null</td><td>null</td><td>null</td><td>null</td><td>null</td><td>null</td><td>null</td><td>null</td><td>null</td><td>null</td><td>null</td></tr><tr><td>&quot;2016&quot;</td><td>&quot;12 25420664030…</td><td>&quot;1261&quot;</td><td>2035</td><td>null</td><td>&quot;SIX BRANCHES&quot;</td><td>&quot;DR&quot;</td><td>&quot;ROS&quot;</td><td>&quot;R5&quot;</td><td>&quot;45&quot;</td><td>&quot;R3&quot;</td><td>&quot;101&quot;</td><td>&quot;1&quot;</td><td>&quot;0.4778&quot;</td><td>&quot;ID&quot;</td><td>1</td><td>&quot;MN&quot;</td><td>&quot;45&quot;</td><td>&quot;BOEHM CHRISTOP…</td><td>null</td><td>&quot;2035&quot;</td><td>null</td><td>null</td><td>&quot;SIX BRANCHES&quot;</td><td>&quot;DR&quot;</td><td>null</td><td>&quot;GA&quot;</td><td>null</td><td>null</td><td>&quot;30076&quot;</td><td>&quot;44100&quot;</td><td>&quot;182200&quot;</td><td>&quot;226300&quot;</td><td>&quot;1&quot;</td><td>&quot;1&quot;</td><td>&quot;1975&quot;</td><td>null</td><td>8</td><td>3</td><td>2</td><td>0</td><td>&quot;12254206640300…</td><td>null</td><td>null</td><td>null</td><td>null</td><td>null</td><td>null</td><td>null</td><td>null</td><td>null</td><td>null</td><td>null</td><td>null</td><td>null</td><td>null</td><td>null</td><td>null</td><td>null</td><td>null</td><td>null</td><td>null</td><td>null</td><td>null</td><td>null</td><td>null</td></tr><tr><td>&quot;2014&quot;</td><td>&quot;13 0125  LL449…</td><td>&quot;1328&quot;</td><td>2373</td><td>null</td><td>&quot;MCGEE LANDING&quot;</td><td>null</td><td>&quot;FUL&quot;</td><td>&quot;AG1&quot;</td><td>&quot;55&quot;</td><td>&quot;R3&quot;</td><td>&quot;100&quot;</td><td>&quot;0&quot;</td><td>&quot;6.500000000000…</td><td>&quot;AN 05 BLUECARD…</td><td>1</td><td>&quot;MN&quot;</td><td>&quot;55&quot;</td><td>&quot;FLOYD J HOLDIN…</td><td>null</td><td>&quot;2331&quot;</td><td>null</td><td>null</td><td>&quot;FLAT SHOALS&quot;</td><td>&quot;RD&quot;</td><td>null</td><td>&quot;GA&quot;</td><td>null</td><td>null</td><td>&quot;30296&quot;</td><td>&quot;7500&quot;</td><td>&quot;0&quot;</td><td>&quot;7500&quot;</td><td>null</td><td>null</td><td>null</td><td>null</td><td>null</td><td>null</td><td>null</td><td>null</td><td>&quot;130125LL4493&quot;</td><td>null</td><td>null</td><td>null</td><td>null</td><td>null</td><td>null</td><td>null</td><td>null</td><td>null</td><td>null</td><td>null</td><td>null</td><td>null</td><td>null</td><td>null</td><td>null</td><td>null</td><td>null</td><td>null</td><td>null</td><td>null</td><td>null</td><td>null</td><td>null</td></tr></tbody></table></div>"
      ],
      "text/plain": [
       "shape: (4, 66)\n",
       "┌───────┬─────────────┬──────┬────────────┬───┬─────────────┬────────────┬────────────┬────────────┐\n",
       "│ taxyr ┆ parid       ┆ nbhd ┆ site_adrno ┆ … ┆ sale_adrsuf ┆ sale_cityn ┆ sale_unitn ┆ livunit_ri │\n",
       "│ ---   ┆ ---         ┆ ---  ┆ ---        ┆   ┆ 2           ┆ ame        ┆ o          ┆ ght        │\n",
       "│ cat   ┆ str         ┆ cat  ┆ i64        ┆   ┆ ---         ┆ ---        ┆ ---        ┆ ---        │\n",
       "│       ┆             ┆      ┆            ┆   ┆ cat         ┆ cat        ┆ str        ┆ i16        │\n",
       "╞═══════╪═════════════╪══════╪════════════╪═══╪═════════════╪════════════╪════════════╪════════════╡\n",
       "│ 2012  ┆ 14F00040004 ┆ 4618 ┆ 2943       ┆ … ┆ null        ┆ null       ┆ null       ┆ null       │\n",
       "│       ┆ 0031        ┆      ┆            ┆   ┆             ┆            ┆            ┆            │\n",
       "│ 2016  ┆ 11 06700265 ┆ 1100 ┆ 10990      ┆ … ┆ null        ┆ null       ┆ null       ┆ null       │\n",
       "│       ┆ 0162        ┆      ┆            ┆   ┆             ┆            ┆            ┆            │\n",
       "│ 2016  ┆ 12 25420664 ┆ 1261 ┆ 2035       ┆ … ┆ null        ┆ null       ┆ null       ┆ null       │\n",
       "│       ┆ 0300        ┆      ┆            ┆   ┆             ┆            ┆            ┆            │\n",
       "│ 2014  ┆ 13 0125     ┆ 1328 ┆ 2373       ┆ … ┆ null        ┆ null       ┆ null       ┆ null       │\n",
       "│       ┆ LL4493      ┆      ┆            ┆   ┆             ┆            ┆            ┆            │\n",
       "└───────┴─────────────┴──────┴────────────┴───┴─────────────┴────────────┴────────────┴────────────┘"
      ]
     },
     "execution_count": 9,
     "metadata": {},
     "output_type": "execute_result"
    }
   ],
   "source": [
    "full_sales_parcel.sample(4)"
   ]
  },
  {
   "cell_type": "code",
   "execution_count": 10,
   "metadata": {},
   "outputs": [
    {
     "name": "stdout",
     "output_type": "stream",
     "text": [
      "Total row count:  5713830\n",
      "Total unmatched parcels:  5248580\n",
      "Percent of total:  91.85747563368179\n"
     ]
    }
   ],
   "source": [
    "unmatched = len(full_sales_parcel.filter(pl.col('parid_right').is_null()))\n",
    "print('Total row count: ', len(full_sales_parcel))\n",
    "print('Total unmatched parcels: ', unmatched)\n",
    "print('Percent of total: ', unmatched / len(full_sales_parcel) * 100)"
   ]
  },
  {
   "cell_type": "code",
   "execution_count": 11,
   "metadata": {},
   "outputs": [
    {
     "name": "stdout",
     "output_type": "stream",
     "text": [
      "Total unique [parid, taxyr] keys:  4337774\n",
      "Total non-unique [parid, taxyr] keys:  1376056\n",
      "Percent (non-unique) of total:  24.082900611323755\n"
     ]
    }
   ],
   "source": [
    "unique_sales = len(full_sales_parcel.select(['parid', 'taxyr']).unique())\n",
    "print('Total unique [parid, taxyr] keys: ', unique_sales)\n",
    "print('Total non-unique [parid, taxyr] keys: ', len(full_sales_parcel) - unique_sales)\n",
    "print('Percent (non-unique) of total: ', (len(full_sales_parcel) - unique_sales) / len(full_sales_parcel) * 100)"
   ]
  },
  {
   "cell_type": "markdown",
   "metadata": {},
   "source": [
    "Compared to original sales"
   ]
  },
  {
   "cell_type": "code",
   "execution_count": 13,
   "metadata": {},
   "outputs": [
    {
     "name": "stdout",
     "output_type": "stream",
     "text": [
      "Reading file:  C:/Users/nicho/Documents/research/FCS/data/sales/Sales2011.txt\n",
      "Reading file:  C:/Users/nicho/Documents/research/FCS/data/sales/Sales2012.txt\n",
      "Reading file:  C:/Users/nicho/Documents/research/FCS/data/sales/Sales2013.txt\n",
      "Reading file:  C:/Users/nicho/Documents/research/FCS/data/sales/Sales2014.txt\n",
      "Reading file:  C:/Users/nicho/Documents/research/FCS/data/sales/Sales2015.txt\n",
      "Reading file:  C:/Users/nicho/Documents/research/FCS/data/sales/Sales2016.txt\n",
      "Reading file:  C:/Users/nicho/Documents/research/FCS/data/sales/Sales2017.txt\n",
      "Reading file:  C:/Users/nicho/Documents/research/FCS/data/sales/Sales2018.txt\n",
      "Reading file:  C:/Users/nicho/Documents/research/FCS/data/sales/Sales2019.txt\n",
      "Reading file:  C:/Users/nicho/Documents/research/FCS/data/sales/Sales2020.txt\n",
      "Reading file:  C:/Users/nicho/Documents/research/FCS/data/sales/Sales2021.txt\n",
      "Reading file:  C:/Users/nicho/Documents/research/FCS/data/sales/Sales2022.txt\n"
     ]
    }
   ],
   "source": [
    "all_sales = [read_file(sales_path + file, sales_dtypes, sales_new_names) for file in sales_files]\n",
    "all_sales_append = pl.concat(all_sales, how='diagonal')\n",
    "all_sales_append.write_csv('../output/sales/sales_all_years.csv')"
   ]
  },
  {
   "cell_type": "code",
   "execution_count": 14,
   "metadata": {},
   "outputs": [
    {
     "name": "stdout",
     "output_type": "stream",
     "text": [
      "Additional non-unique rows generated from processing:  5236592\n",
      "Percent of original sales:  1097.270544256744\n"
     ]
    }
   ],
   "source": [
    "add_rows = len(full_sales_parcel) - len(all_sales_append)\n",
    "print('Additional non-unique rows generated from processing: ', add_rows)\n",
    "print('Percent of original sales: ', add_rows / len(all_sales_append) * 100)"
   ]
  },
  {
   "cell_type": "markdown",
   "metadata": {},
   "source": [
    "### Post-Processing\n",
    "---"
   ]
  },
  {
   "cell_type": "markdown",
   "metadata": {},
   "source": [
    "Save before post-processing to avoid having to re-run entire process."
   ]
  },
  {
   "cell_type": "code",
   "execution_count": 15,
   "metadata": {},
   "outputs": [],
   "source": [
    "full_sales_parcel.write_csv('../output/merged/pre_sales_parcel_left.csv')\n",
    "full_sales_parcel.write_parquet('../output/merged/pre_sales_parcel_left.parquet')"
   ]
  },
  {
   "cell_type": "markdown",
   "metadata": {},
   "source": [
    "Convert salesprice, fmv, costval -> float  \n",
    "Convert own_adrno, own_zip -> int  \n",
    "AND drop rows with bad entries for all of the above variables except costval"
   ]
  },
  {
   "cell_type": "code",
   "execution_count": 14,
   "metadata": {},
   "outputs": [],
   "source": [
    "init_size = len(full_sales_parcel)\n",
    "full_sales_parcel = full_sales_parcel.select(\n",
    "    pl.col('salesprice').str.replace_all(',','').cast(pl.Float64),\n",
    "    pl.col('fmv').str.replace_all(',','').cast(pl.Float64),\n",
    "    pl.col('costval').str.replace_all(',','').cast(pl.Float64),\n",
    "    pl.col('*').exclude(['salesprice', 'fmv', 'costval'])\n",
    ")"
   ]
  },
  {
   "cell_type": "markdown",
   "metadata": {},
   "source": [
    "Number of null own_adrno."
   ]
  },
  {
   "cell_type": "code",
   "execution_count": 15,
   "metadata": {},
   "outputs": [
    {
     "data": {
      "text/plain": [
       "35173"
      ]
     },
     "execution_count": 15,
     "metadata": {},
     "output_type": "execute_result"
    }
   ],
   "source": [
    "len(full_sales_parcel.filter(\n",
    "    pl.col('own_adrno').is_null()\n",
    "))"
   ]
  },
  {
   "cell_type": "markdown",
   "metadata": {},
   "source": [
    "Number of rows where both own_adrno and own_adrstr are null. We want count of null own_adrno = count of null own_adrstr, since we can assume there is no own_adrno if there is no street information either."
   ]
  },
  {
   "cell_type": "code",
   "execution_count": 16,
   "metadata": {},
   "outputs": [
    {
     "data": {
      "text/plain": [
       "17141"
      ]
     },
     "execution_count": 16,
     "metadata": {},
     "output_type": "execute_result"
    }
   ],
   "source": [
    "len(full_sales_parcel.filter(\n",
    "    pl.col('own_adrno').is_null() &\n",
    "    pl.col('own_adrstr').is_null()\n",
    "))"
   ]
  },
  {
   "cell_type": "code",
   "execution_count": 17,
   "metadata": {},
   "outputs": [
    {
     "data": {
      "text/html": [
       "<div><style>\n",
       ".dataframe > thead > tr > th,\n",
       ".dataframe > tbody > tr > td {\n",
       "  text-align: right;\n",
       "}\n",
       "</style>\n",
       "<small>shape: (2, 2)</small><table border=\"1\" class=\"dataframe\"><thead><tr><th>own_adrno</th><th>own_adrstr</th></tr><tr><td>str</td><td>str</td></tr></thead><tbody><tr><td>null</td><td>null</td></tr><tr><td>null</td><td>null</td></tr></tbody></table></div>"
      ],
      "text/plain": [
       "shape: (2, 2)\n",
       "┌───────────┬────────────┐\n",
       "│ own_adrno ┆ own_adrstr │\n",
       "│ ---       ┆ ---        │\n",
       "│ str       ┆ str        │\n",
       "╞═══════════╪════════════╡\n",
       "│ null      ┆ null       │\n",
       "│ null      ┆ null       │\n",
       "└───────────┴────────────┘"
      ]
     },
     "execution_count": 17,
     "metadata": {},
     "output_type": "execute_result"
    }
   ],
   "source": [
    "full_sales_parcel.filter(\n",
    "    pl.col('own_adrno').is_null()\n",
    ")[['own_adrno', 'own_adrstr']].sample(2)"
   ]
  },
  {
   "cell_type": "markdown",
   "metadata": {},
   "source": [
    "Extract own_adrno from PO boxes to reduce the number of nulls. Most null own_adrno are caused by PO boxes."
   ]
  },
  {
   "cell_type": "code",
   "execution_count": 18,
   "metadata": {},
   "outputs": [],
   "source": [
    "full_sales_parcel = full_sales_parcel.with_columns(\n",
    "    pl.when(pl.col('own_adrno').is_null())\n",
    "    .then(pl.col('own_adrstr').str.extract(r'(\\d+)'))\n",
    "    .otherwise(pl.col('own_adrno'))\n",
    "    .alias('own_adrno')\n",
    ")"
   ]
  },
  {
   "cell_type": "markdown",
   "metadata": {},
   "source": [
    "Now we can drop nulls for own_adrno. We can also drop nulls for own_zip."
   ]
  },
  {
   "cell_type": "code",
   "execution_count": 19,
   "metadata": {},
   "outputs": [
    {
     "name": "stdout",
     "output_type": "stream",
     "text": [
      "Number of rows dropped:  18217\n",
      "Percent:  3.9368019778015975\n"
     ]
    }
   ],
   "source": [
    "init_len = len(full_sales_parcel)\n",
    "full_sales_parcel = full_sales_parcel.drop_nulls(subset=['own_adrno', 'own_zip'])\n",
    "print('Number of rows dropped: ', init_len - len(full_sales_parcel))\n",
    "print('Percent: ', (init_len - len(full_sales_parcel)) / len(full_sales_parcel) * 100)"
   ]
  },
  {
   "cell_type": "markdown",
   "metadata": {},
   "source": [
    "Investigate incorrect own_zip."
   ]
  },
  {
   "cell_type": "code",
   "execution_count": 20,
   "metadata": {},
   "outputs": [
    {
     "data": {
      "text/html": [
       "<div><style>\n",
       ".dataframe > thead > tr > th,\n",
       ".dataframe > tbody > tr > td {\n",
       "  text-align: right;\n",
       "}\n",
       "</style>\n",
       "<small>shape: (5,)</small><table border=\"1\" class=\"dataframe\"><thead><tr><th>own_zip</th></tr><tr><td>str</td></tr></thead><tbody><tr><td>&quot;B3S 1&quot;</td></tr><tr><td>&quot;L7M4H&quot;</td></tr><tr><td>&quot;B3S 1&quot;</td></tr><tr><td>&quot;B3S 1&quot;</td></tr><tr><td>&quot;N4N3V&quot;</td></tr></tbody></table></div>"
      ],
      "text/plain": [
       "shape: (5,)\n",
       "Series: 'own_zip' [str]\n",
       "[\n",
       "\t\"B3S 1\"\n",
       "\t\"L7M4H\"\n",
       "\t\"B3S 1\"\n",
       "\t\"B3S 1\"\n",
       "\t\"N4N3V\"\n",
       "]"
      ]
     },
     "execution_count": 20,
     "metadata": {},
     "output_type": "execute_result"
    }
   ],
   "source": [
    "full_sales_parcel.filter(\n",
    "    pl.col('own_zip').str.contains(r'[a-zA-Z]')\n",
    ")['own_zip'].sample(5)"
   ]
  },
  {
   "cell_type": "markdown",
   "metadata": {},
   "source": [
    "Number of incorrect own_zip."
   ]
  },
  {
   "cell_type": "code",
   "execution_count": 21,
   "metadata": {},
   "outputs": [
    {
     "data": {
      "text/plain": [
       "165"
      ]
     },
     "execution_count": 21,
     "metadata": {},
     "output_type": "execute_result"
    }
   ],
   "source": [
    "len(full_sales_parcel.filter(\n",
    "    pl.col('own_zip').str.contains(r'[a-zA-Z]')\n",
    "))"
   ]
  },
  {
   "cell_type": "code",
   "execution_count": 22,
   "metadata": {},
   "outputs": [
    {
     "data": {
      "text/plain": [
       "462736"
      ]
     },
     "execution_count": 22,
     "metadata": {},
     "output_type": "execute_result"
    }
   ],
   "source": [
    "len(full_sales_parcel)"
   ]
  },
  {
   "cell_type": "markdown",
   "metadata": {},
   "source": [
    "Drop incorrect own_zip."
   ]
  },
  {
   "cell_type": "code",
   "execution_count": 23,
   "metadata": {},
   "outputs": [
    {
     "name": "stdout",
     "output_type": "stream",
     "text": [
      "Count dropped:  165\n"
     ]
    }
   ],
   "source": [
    "init_len = len(full_sales_parcel)\n",
    "\n",
    "full_sales_parcel = full_sales_parcel.with_columns(\n",
    "    pl.when(pl.col('own_zip').str.contains(r'[a-zA-Z]'))\n",
    "    .then(None)\n",
    "    .otherwise(pl.col('own_zip'))\n",
    "    .alias('own_zip')\n",
    ").drop_nulls(['own_zip'])\n",
    "\n",
    "print('Count dropped: ', init_len - len(full_sales_parcel))"
   ]
  },
  {
   "cell_type": "markdown",
   "metadata": {},
   "source": [
    "Cast own_adrno and own_zip -> int."
   ]
  },
  {
   "cell_type": "code",
   "execution_count": 24,
   "metadata": {},
   "outputs": [],
   "source": [
    "full_sales_parcel = full_sales_parcel.select(\n",
    "    pl.col('own_adrno').cast(pl.Int32),\n",
    "    pl.col('own_zip').cast(pl.Int32),\n",
    "    pl.col('*').exclude(['own_adrno', 'own_zip'])\n",
    ")"
   ]
  },
  {
   "cell_type": "markdown",
   "metadata": {},
   "source": [
    "'Aprland': pl.Utf8, 'Aprbldg': pl.Utf8, 'Aprtot': pl.Utf8"
   ]
  },
  {
   "cell_type": "code",
   "execution_count": 25,
   "metadata": {},
   "outputs": [
    {
     "data": {
      "text/html": [
       "<div><style>\n",
       ".dataframe > thead > tr > th,\n",
       ".dataframe > tbody > tr > td {\n",
       "  text-align: right;\n",
       "}\n",
       "</style>\n",
       "<small>shape: (5, 66)</small><table border=\"1\" class=\"dataframe\"><thead><tr><th>own_adrno</th><th>own_zip</th><th>salesprice</th><th>fmv</th><th>costval</th><th>taxyr</th><th>saleyr</th><th>sale_month</th><th>parid</th><th>sale_date</th><th>deed</th><th>sale_aprland</th><th>sale_aprbldg</th><th>saleval</th><th>appraiser</th><th>when</th><th>grantor</th><th>grantee</th><th>sale_adrpre</th><th>sale_adrno</th><th>sale_adrdir</th><th>sale_adrstr</th><th>sale_adrsuf</th><th>sale_adrsuf2</th><th>sale_cityname</th><th>sale_unitno</th><th>livunit</th><th>parid_strip</th><th>parid_right</th><th>nbhd</th><th>site_adrno</th><th>site_adrdir</th><th>site_adrstr</th><th>site_adrsuf</th><th>site_cityname</th><th>zoning</th><th>site_muni</th><th>class</th><th>luc</th><th>livunit_right</th><th>calcacres</th><th>note1</th><th>of_card</th><th>change_reason</th><th>taxdist</th><th>own1</th><th>own2</th><th>own_adradd</th><th>own_adrdir</th><th>own_adrstr</th><th>own_adrsuf</th><th>own_adrsuf2</th><th>own_statecode</th><th>own_country</th><th>own_unitno</th><th>aprland</th><th>aprbldg</th><th>aprtot</th><th>card</th><th>style</th><th>yrblt</th><th>yr_remod</th><th>rmtot</th><th>rmbed</th><th>fixbath</th><th>fixhalf</th></tr><tr><td>i32</td><td>i32</td><td>f64</td><td>f64</td><td>f64</td><td>cat</td><td>cat</td><td>cat</td><td>str</td><td>str</td><td>cat</td><td>str</td><td>str</td><td>cat</td><td>str</td><td>str</td><td>str</td><td>str</td><td>cat</td><td>str</td><td>cat</td><td>str</td><td>cat</td><td>cat</td><td>cat</td><td>str</td><td>i16</td><td>str</td><td>str</td><td>cat</td><td>i64</td><td>str</td><td>str</td><td>str</td><td>cat</td><td>cat</td><td>cat</td><td>cat</td><td>cat</td><td>str</td><td>str</td><td>str</td><td>i16</td><td>cat</td><td>cat</td><td>str</td><td>str</td><td>str</td><td>cat</td><td>str</td><td>cat</td><td>str</td><td>cat</td><td>cat</td><td>str</td><td>str</td><td>str</td><td>str</td><td>cat</td><td>cat</td><td>cat</td><td>i32</td><td>i16</td><td>i16</td><td>i16</td><td>i16</td></tr></thead><tbody><tr><td>6910</td><td>30328</td><td>0.0</td><td>301000.0</td><td>301700.0</td><td>&quot;2011&quot;</td><td>&quot;2010&quot;</td><td>&quot;Apr&quot;</td><td>&quot;17 01270001011…</td><td>&quot;14-APR-2010&quot;</td><td>&quot;QC&quot;</td><td>&quot;78000&quot;</td><td>&quot;223000&quot;</td><td>&quot;G&quot;</td><td>&quot;TA_LPRICE&quot;</td><td>&quot;21-JUN-2010&quot;</td><td>&quot;HALL CLAIRE&quot;</td><td>&quot;TAYLOR CLAIRE …</td><td>null</td><td>&quot;6910&quot;</td><td>null</td><td>&quot;BRANDON MILL&quot;</td><td>&quot;RD&quot;</td><td>&quot;NW&quot;</td><td>&quot;SANDY SPRINGS&quot;</td><td>null</td><td>1</td><td>&quot;17012700010118…</td><td>&quot;17 01270001011…</td><td>&quot;17831&quot;</td><td>6910</td><td>null</td><td>&quot;BRANDON MILL&quot;</td><td>&quot;RD&quot;</td><td>&quot;SANDY SPRINGS&quot;</td><td>&quot;R3&quot;</td><td>&quot;59&quot;</td><td>&quot;R3&quot;</td><td>&quot;101&quot;</td><td>&quot;1&quot;</td><td>&quot;0.429200000000…</td><td>&quot;AN ADDED AGE 4…</td><td>1</td><td>&quot;MN&quot;</td><td>&quot;59&quot;</td><td>&quot;TAYLOR CLAIRE …</td><td>null</td><td>null</td><td>null</td><td>&quot;BRANDON MILL&quot;</td><td>&quot;RD&quot;</td><td>&quot;NW&quot;</td><td>&quot;GA&quot;</td><td>null</td><td>null</td><td>&quot;78000&quot;</td><td>&quot;223000&quot;</td><td>&quot;301000&quot;</td><td>&quot;1&quot;</td><td>&quot;2&quot;</td><td>&quot;1957&quot;</td><td>null</td><td>7</td><td>3</td><td>2</td><td>0</td></tr><tr><td>7125</td><td>30328</td><td>390000.0</td><td>390000.0</td><td>387900.0</td><td>&quot;2016&quot;</td><td>&quot;2015&quot;</td><td>&quot;May&quot;</td><td>&quot;17 00740001055…</td><td>&quot;29-MAY-2015&quot;</td><td>&quot;LW&quot;</td><td>&quot;53,700&quot;</td><td>&quot;336,300&quot;</td><td>&quot;9&quot;</td><td>&quot;TA_JBANKS&quot;</td><td>&quot;30-SEP-2015&quot;</td><td>&quot;TULISALO KARL …</td><td>&quot;WALTHALL RYAN …</td><td>null</td><td>&quot;7125&quot;</td><td>null</td><td>&quot;DUNCOURTNEY&quot;</td><td>&quot;DR&quot;</td><td>null</td><td>&quot;SANDY SPRINGS&quot;</td><td>null</td><td>1</td><td>&quot;17007400010558…</td><td>&quot;17 00740001055…</td><td>&quot;1783&quot;</td><td>7125</td><td>null</td><td>&quot;DUNCOURTNEY&quot;</td><td>&quot;DR&quot;</td><td>&quot;SANDY SPRINGS&quot;</td><td>&quot;R3&quot;</td><td>&quot;59&quot;</td><td>&quot;R3&quot;</td><td>&quot;101&quot;</td><td>&quot;1&quot;</td><td>&quot;0.503&quot;</td><td>&quot;AN PKD UP HSE …</td><td>1</td><td>&quot;SP&quot;</td><td>&quot;59&quot;</td><td>&quot;WALTHALL RYAN …</td><td>null</td><td>null</td><td>null</td><td>&quot;DUNCOURTNEY&quot;</td><td>&quot;DR&quot;</td><td>null</td><td>&quot;GA&quot;</td><td>null</td><td>null</td><td>&quot;53700&quot;</td><td>&quot;336300&quot;</td><td>&quot;390000&quot;</td><td>&quot;1&quot;</td><td>&quot;1&quot;</td><td>&quot;1968&quot;</td><td>null</td><td>9</td><td>5</td><td>2</td><td>1</td></tr><tr><td>20465</td><td>30325</td><td>25000.0</td><td>96200.0</td><td>96200.0</td><td>&quot;2012&quot;</td><td>&quot;2011&quot;</td><td>&quot;Apr&quot;</td><td>&quot;14 01650004114…</td><td>&quot;29-APR-2011&quot;</td><td>&quot;WD&quot;</td><td>&quot;13700&quot;</td><td>&quot;82500&quot;</td><td>&quot;0&quot;</td><td>&quot;TA_NSNEED&quot;</td><td>&quot;06-FEB-2012&quot;</td><td>&quot;C &amp; B PAYNE FA…</td><td>&quot;CMC HOLDINGS &amp;…</td><td>null</td><td>&quot;1806&quot;</td><td>null</td><td>&quot;NEELY&quot;</td><td>&quot;AVE&quot;</td><td>null</td><td>&quot;EP&quot;</td><td>null</td><td>2</td><td>&quot;14016500041147…</td><td>&quot;14 01650004114…</td><td>&quot;14474&quot;</td><td>1806</td><td>null</td><td>&quot;NEELY&quot;</td><td>&quot;AVE&quot;</td><td>&quot;EAST POINT&quot;</td><td>&quot;R1&quot;</td><td>&quot;20&quot;</td><td>&quot;R3&quot;</td><td>&quot;102&quot;</td><td>&quot;2&quot;</td><td>&quot;0.276000000000…</td><td>null</td><td>1</td><td>&quot;RV&quot;</td><td>&quot;20&quot;</td><td>&quot;CMC HOLDINGS &amp;…</td><td>null</td><td>null</td><td>null</td><td>&quot;P O BOX 20465&quot;</td><td>null</td><td>null</td><td>&quot;GA&quot;</td><td>null</td><td>null</td><td>&quot;5210&quot;</td><td>&quot;19700&quot;</td><td>&quot;24910&quot;</td><td>&quot;1&quot;</td><td>&quot;6&quot;</td><td>&quot;1984&quot;</td><td>null</td><td>10</td><td>6</td><td>2</td><td>2</td></tr><tr><td>2651</td><td>30318</td><td>1.0</td><td>104900.0</td><td>104900.0</td><td>&quot;2022&quot;</td><td>&quot;2021&quot;</td><td>&quot;Sep&quot;</td><td>&quot;17 02510001009…</td><td>&quot;09-SEP-2021&quot;</td><td>&quot;QC&quot;</td><td>&quot;52,500&quot;</td><td>&quot;52,400&quot;</td><td>&quot;T&quot;</td><td>&quot;TA_WBRITT&quot;</td><td>&quot;24-JAN-2022&quot;</td><td>&quot;MAPP EDDIE RUT…</td><td>&quot;WALKER WANDA&quot;</td><td>null</td><td>&quot;2651&quot;</td><td>null</td><td>&quot;BROWNTOWN&quot;</td><td>&quot;RD&quot;</td><td>&quot;NW&quot;</td><td>&quot;ATLANTA&quot;</td><td>null</td><td>1</td><td>&quot;17025100010090…</td><td>&quot;17 02510001009…</td><td>&quot;1741&quot;</td><td>2651</td><td>null</td><td>&quot;BROWNTOWN&quot;</td><td>&quot;RD&quot;</td><td>&quot;ATLANTA&quot;</td><td>&quot;R4&quot;</td><td>&quot;5&quot;</td><td>&quot;R3&quot;</td><td>&quot;101&quot;</td><td>&quot;1&quot;</td><td>&quot;0.1148&quot;</td><td>&quot;8/16 CONFIRMED…</td><td>1</td><td>&quot;RV&quot;</td><td>&quot;5&quot;</td><td>&quot;WALKER WANDA&quot;</td><td>null</td><td>null</td><td>null</td><td>&quot;BROWNTOWN&quot;</td><td>&quot;RD&quot;</td><td>&quot;NW&quot;</td><td>&quot;GA&quot;</td><td>null</td><td>null</td><td>&quot;52500&quot;</td><td>&quot;52400&quot;</td><td>&quot;104900&quot;</td><td>&quot;1&quot;</td><td>&quot;2&quot;</td><td>&quot;1950&quot;</td><td>null</td><td>4</td><td>2</td><td>1</td><td>0</td></tr><tr><td>56</td><td>30327</td><td>205000.0</td><td>173400.0</td><td>173400.0</td><td>&quot;2018&quot;</td><td>&quot;2017&quot;</td><td>&quot;Dec&quot;</td><td>&quot;17 01850005056…</td><td>&quot;18-DEC-2017&quot;</td><td>&quot;LW&quot;</td><td>&quot;35,400&quot;</td><td>&quot;138,000&quot;</td><td>&quot;0&quot;</td><td>&quot;TA_VJARVIS&quot;</td><td>&quot;17-MAY-2018&quot;</td><td>&quot;CREAMER MARIAN…</td><td>&quot;CASTRO BENJAMI…</td><td>null</td><td>&quot;56&quot;</td><td>null</td><td>&quot;CANTEY&quot;</td><td>&quot;PL&quot;</td><td>&quot;NW&quot;</td><td>&quot;ATLANTA&quot;</td><td>null</td><td>1</td><td>&quot;17018500050568…</td><td>&quot;17 01850005056…</td><td>&quot;971&quot;</td><td>56</td><td>null</td><td>&quot;CANTEY&quot;</td><td>&quot;PL&quot;</td><td>&quot;ATLANTA&quot;</td><td>&quot;RG2&quot;</td><td>&quot;5&quot;</td><td>&quot;R3&quot;</td><td>&quot;106&quot;</td><td>&quot;1&quot;</td><td>&quot;2.98E-2&quot;</td><td>&quot;AN  BLDG 9 U56…</td><td>1</td><td>&quot;RV&quot;</td><td>&quot;5&quot;</td><td>&quot;CASTRO BENJAMI…</td><td>null</td><td>null</td><td>null</td><td>&quot;CANTEY&quot;</td><td>&quot;PL&quot;</td><td>&quot;NW&quot;</td><td>&quot;GA&quot;</td><td>null</td><td>null</td><td>&quot;35400&quot;</td><td>&quot;138000&quot;</td><td>&quot;173400&quot;</td><td>&quot;1&quot;</td><td>&quot;10&quot;</td><td>&quot;1970&quot;</td><td>null</td><td>5</td><td>2</td><td>2</td><td>1</td></tr></tbody></table></div>"
      ],
      "text/plain": [
       "shape: (5, 66)\n",
       "┌───────────┬─────────┬────────────┬──────────┬───┬───────┬───────┬─────────┬─────────┐\n",
       "│ own_adrno ┆ own_zip ┆ salesprice ┆ fmv      ┆ … ┆ rmtot ┆ rmbed ┆ fixbath ┆ fixhalf │\n",
       "│ ---       ┆ ---     ┆ ---        ┆ ---      ┆   ┆ ---   ┆ ---   ┆ ---     ┆ ---     │\n",
       "│ i32       ┆ i32     ┆ f64        ┆ f64      ┆   ┆ i16   ┆ i16   ┆ i16     ┆ i16     │\n",
       "╞═══════════╪═════════╪════════════╪══════════╪═══╪═══════╪═══════╪═════════╪═════════╡\n",
       "│ 6910      ┆ 30328   ┆ 0.0        ┆ 301000.0 ┆ … ┆ 7     ┆ 3     ┆ 2       ┆ 0       │\n",
       "│ 7125      ┆ 30328   ┆ 390000.0   ┆ 390000.0 ┆ … ┆ 9     ┆ 5     ┆ 2       ┆ 1       │\n",
       "│ 20465     ┆ 30325   ┆ 25000.0    ┆ 96200.0  ┆ … ┆ 10    ┆ 6     ┆ 2       ┆ 2       │\n",
       "│ 2651      ┆ 30318   ┆ 1.0        ┆ 104900.0 ┆ … ┆ 4     ┆ 2     ┆ 1       ┆ 0       │\n",
       "│ 56        ┆ 30327   ┆ 205000.0   ┆ 173400.0 ┆ … ┆ 5     ┆ 2     ┆ 2       ┆ 1       │\n",
       "└───────────┴─────────┴────────────┴──────────┴───┴───────┴───────┴─────────┴─────────┘"
      ]
     },
     "execution_count": 25,
     "metadata": {},
     "output_type": "execute_result"
    }
   ],
   "source": [
    "full_sales_parcel.sample(5)"
   ]
  },
  {
   "cell_type": "markdown",
   "metadata": {},
   "source": [
    "### Final output\n",
    "---"
   ]
  },
  {
   "cell_type": "code",
   "execution_count": 26,
   "metadata": {},
   "outputs": [],
   "source": [
    "full_sales_parcel.write_csv('../output/merged/sales_parcel_left.csv')\n",
    "full_sales_parcel.write_parquet('../output/merged/sales_parcel_left.parquet')"
   ]
  },
  {
   "cell_type": "markdown",
   "metadata": {},
   "source": [
    "### Data Modification\n",
    "---"
   ]
  },
  {
   "cell_type": "markdown",
   "metadata": {},
   "source": [
    "Read in data using Parquet files from previous processing"
   ]
  },
  {
   "cell_type": "markdown",
   "metadata": {},
   "source": [
    "Transform as desired"
   ]
  },
  {
   "cell_type": "markdown",
   "metadata": {},
   "source": [
    "Output"
   ]
  }
 ],
 "metadata": {
  "kernelspec": {
   "display_name": "fcs",
   "language": "python",
   "name": "python3"
  },
  "language_info": {
   "codemirror_mode": {
    "name": "ipython",
    "version": 3
   },
   "file_extension": ".py",
   "mimetype": "text/x-python",
   "name": "python",
   "nbconvert_exporter": "python",
   "pygments_lexer": "ipython3",
   "version": "3.11.4"
  },
  "orig_nbformat": 4
 },
 "nbformat": 4,
 "nbformat_minor": 2
}
