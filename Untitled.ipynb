{
 "cells": [
  {
   "cell_type": "code",
   "execution_count": 1,
   "id": "109ca7bc",
   "metadata": {},
   "outputs": [],
   "source": [
    "import camelot, pandas, os"
   ]
  },
  {
   "cell_type": "code",
   "execution_count": 2,
   "id": "551d2a31",
   "metadata": {},
   "outputs": [
    {
     "ename": "FileNotFoundError",
     "evalue": "[Errno 2] No such file or directory: '/Users/bartholemew/ga-tax-assessment/tax_districts_crosswalk/2018_Millage_Rates.pdf'",
     "output_type": "error",
     "traceback": [
      "\u001b[0;31m---------------------------------------------------------------------------\u001b[0m",
      "\u001b[0;31mFileNotFoundError\u001b[0m                         Traceback (most recent call last)",
      "Cell \u001b[0;32mIn[2], line 1\u001b[0m\n\u001b[0;32m----> 1\u001b[0m pdf \u001b[38;5;241m=\u001b[39m \u001b[43mcamelot\u001b[49m\u001b[38;5;241;43m.\u001b[39;49m\u001b[43mread_pdf\u001b[49m\u001b[43m(\u001b[49m\u001b[38;5;124;43m'\u001b[39;49m\u001b[38;5;124;43m/Users/bartholemew/ga-tax-assessment/tax_districts_crosswalk/2018_Millage_Rates.pdf\u001b[39;49m\u001b[38;5;124;43m'\u001b[39;49m\u001b[43m)\u001b[49m\n",
      "File \u001b[0;32m/Library/Frameworks/Python.framework/Versions/3.10/lib/python3.10/site-packages/camelot/io.py:113\u001b[0m, in \u001b[0;36mread_pdf\u001b[0;34m(filepath, pages, password, flavor, suppress_stdout, layout_kwargs, **kwargs)\u001b[0m\n\u001b[1;32m    111\u001b[0m p \u001b[39m=\u001b[39m PDFHandler(filepath, pages\u001b[39m=\u001b[39mpages, password\u001b[39m=\u001b[39mpassword)\n\u001b[1;32m    112\u001b[0m kwargs \u001b[39m=\u001b[39m remove_extra(kwargs, flavor\u001b[39m=\u001b[39mflavor)\n\u001b[0;32m--> 113\u001b[0m tables \u001b[39m=\u001b[39m p\u001b[39m.\u001b[39;49mparse(\n\u001b[1;32m    114\u001b[0m     flavor\u001b[39m=\u001b[39;49mflavor,\n\u001b[1;32m    115\u001b[0m     suppress_stdout\u001b[39m=\u001b[39;49msuppress_stdout,\n\u001b[1;32m    116\u001b[0m     layout_kwargs\u001b[39m=\u001b[39;49mlayout_kwargs,\n\u001b[1;32m    117\u001b[0m     \u001b[39m*\u001b[39;49m\u001b[39m*\u001b[39;49mkwargs\n\u001b[1;32m    118\u001b[0m )\n\u001b[1;32m    119\u001b[0m \u001b[39mreturn\u001b[39;00m tables\n",
      "File \u001b[0;32m/Library/Frameworks/Python.framework/Versions/3.10/lib/python3.10/site-packages/camelot/handlers.py:172\u001b[0m, in \u001b[0;36mPDFHandler.parse\u001b[0;34m(self, flavor, suppress_stdout, layout_kwargs, **kwargs)\u001b[0m\n\u001b[1;32m    170\u001b[0m \u001b[39mwith\u001b[39;00m TemporaryDirectory() \u001b[39mas\u001b[39;00m tempdir:\n\u001b[1;32m    171\u001b[0m     \u001b[39mfor\u001b[39;00m p \u001b[39min\u001b[39;00m \u001b[39mself\u001b[39m\u001b[39m.\u001b[39mpages:\n\u001b[0;32m--> 172\u001b[0m         \u001b[39mself\u001b[39;49m\u001b[39m.\u001b[39;49m_save_page(\u001b[39mself\u001b[39;49m\u001b[39m.\u001b[39;49mfilepath, p, tempdir)\n\u001b[1;32m    173\u001b[0m     pages \u001b[39m=\u001b[39m [os\u001b[39m.\u001b[39mpath\u001b[39m.\u001b[39mjoin(tempdir, \u001b[39mf\u001b[39m\u001b[39m\"\u001b[39m\u001b[39mpage-\u001b[39m\u001b[39m{\u001b[39;00mp\u001b[39m}\u001b[39;00m\u001b[39m.pdf\u001b[39m\u001b[39m\"\u001b[39m) \u001b[39mfor\u001b[39;00m p \u001b[39min\u001b[39;00m \u001b[39mself\u001b[39m\u001b[39m.\u001b[39mpages]\n\u001b[1;32m    174\u001b[0m     parser \u001b[39m=\u001b[39m Lattice(\u001b[39m*\u001b[39m\u001b[39m*\u001b[39mkwargs) \u001b[39mif\u001b[39;00m flavor \u001b[39m==\u001b[39m \u001b[39m\"\u001b[39m\u001b[39mlattice\u001b[39m\u001b[39m\"\u001b[39m \u001b[39melse\u001b[39;00m Stream(\u001b[39m*\u001b[39m\u001b[39m*\u001b[39mkwargs)\n",
      "File \u001b[0;32m/Library/Frameworks/Python.framework/Versions/3.10/lib/python3.10/site-packages/camelot/handlers.py:110\u001b[0m, in \u001b[0;36mPDFHandler._save_page\u001b[0;34m(self, filepath, page, temp)\u001b[0m\n\u001b[1;32m     97\u001b[0m \u001b[39mdef\u001b[39;00m \u001b[39m_save_page\u001b[39m(\u001b[39mself\u001b[39m, filepath, page, temp):\n\u001b[1;32m     98\u001b[0m \u001b[39m    \u001b[39m\u001b[39m\"\"\"Saves specified page from PDF into a temporary directory.\u001b[39;00m\n\u001b[1;32m     99\u001b[0m \n\u001b[1;32m    100\u001b[0m \u001b[39m    Parameters\u001b[39;00m\n\u001b[0;32m   (...)\u001b[0m\n\u001b[1;32m    108\u001b[0m \n\u001b[1;32m    109\u001b[0m \u001b[39m    \"\"\"\u001b[39;00m\n\u001b[0;32m--> 110\u001b[0m     \u001b[39mwith\u001b[39;00m \u001b[39mopen\u001b[39;49m(filepath, \u001b[39m\"\u001b[39;49m\u001b[39mrb\u001b[39;49m\u001b[39m\"\u001b[39;49m) \u001b[39mas\u001b[39;00m fileobj:\n\u001b[1;32m    111\u001b[0m         infile \u001b[39m=\u001b[39m PdfReader(fileobj, strict\u001b[39m=\u001b[39m\u001b[39mFalse\u001b[39;00m)\n\u001b[1;32m    112\u001b[0m         \u001b[39mif\u001b[39;00m infile\u001b[39m.\u001b[39mis_encrypted:\n",
      "\u001b[0;31mFileNotFoundError\u001b[0m: [Errno 2] No such file or directory: '/Users/bartholemew/ga-tax-assessment/tax_districts_crosswalk/2018_Millage_Rates.pdf'"
     ]
    }
   ],
   "source": [
    "pdf = camelot.read_pdf('/Users/bartholemew/ga-tax-assessment/tax_districts_crosswalk/2018_Millage_Rates.pdf')"
   ]
  },
  {
   "cell_type": "code",
   "execution_count": null,
   "id": "9a93f34d",
   "metadata": {},
   "outputs": [],
   "source": []
  }
 ],
 "metadata": {
  "kernelspec": {
   "display_name": "Python 3.10.6 64-bit",
   "language": "python",
   "name": "python3"
  },
  "language_info": {
   "codemirror_mode": {
    "name": "ipython",
    "version": 3
   },
   "file_extension": ".py",
   "mimetype": "text/x-python",
   "name": "python",
   "nbconvert_exporter": "python",
   "pygments_lexer": "ipython3",
   "version": "3.10.6"
  },
  "vscode": {
   "interpreter": {
    "hash": "aee8b7b246df8f9039afb4144a1f6fd8d2ca17a180786b69acc140d282b71a49"
   }
  }
 },
 "nbformat": 4,
 "nbformat_minor": 5
}
